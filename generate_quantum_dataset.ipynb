{
 "cells": [
  {
   "cell_type": "markdown",
   "metadata": {},
   "source": [
    "# Generation of a labeled quantum dataset\n",
    "\n",
    "Here, I will generate a labeled (separable or entangled) quantum dataset, using the two procedures described in [this paper](https://www.nature.com/articles/s41598-023-28745-3)"
   ]
  },
  {
   "cell_type": "code",
   "execution_count": 1,
   "metadata": {},
   "outputs": [],
   "source": [
    "import numpy as np"
   ]
  },
  {
   "cell_type": "markdown",
   "metadata": {},
   "source": [
    "### Method 1\n",
    "\n",
    "Generate quantum states as\n",
    "$$\\rho_{\\theta,\\,\\phi} = p\\left|\\psi_{\\theta,\\,\\phi}\\right>\\left<\\psi_{\\theta,\\,\\phi}\\right| + (1 - p)\\frac{I}{4}$$\n",
    "With\n",
    "$$\\left|\\psi_{\\theta,\\,\\phi}\\right> = \\cos{\\frac{\\theta}{2}}\\left|01\\right> + e^{i\\phi} \\sin{\\frac{\\theta}{2}}\\left|10\\right>$$"
   ]
  },
  {
   "cell_type": "code",
   "execution_count": 50,
   "metadata": {},
   "outputs": [
    {
     "data": {
      "text/plain": [
       "(1.7275200680505278, 2.361036255727827)"
      ]
     },
     "execution_count": 50,
     "metadata": {},
     "output_type": "execute_result"
    }
   ],
   "source": [
    "theta = np.random.rand() * 2 * np.pi\n",
    "phi = np.random.rand() * 2 * np.pi\n",
    "theta, phi"
   ]
  },
  {
   "cell_type": "code",
   "execution_count": 53,
   "metadata": {},
   "outputs": [
    {
     "data": {
      "text/plain": [
       "(0.9877439517288035,\n",
       " -0.15608294533089506,\n",
       " (-0.7105221248254598+0.7036748610924748j))"
      ]
     },
     "execution_count": 53,
     "metadata": {},
     "output_type": "execute_result"
    }
   ],
   "source": [
    "sin_theta = np.sin(theta)\n",
    "cos_theta = np.cos(theta)\n",
    "\n",
    "exp_phi = np.exp(1j * phi)\n",
    "\n",
    "sin_theta, cos_theta, exp_phi"
   ]
  },
  {
   "cell_type": "code",
   "execution_count": 62,
   "metadata": {},
   "outputs": [
    {
     "data": {
      "text/plain": [
       "array([0, 1])"
      ]
     },
     "execution_count": 62,
     "metadata": {},
     "output_type": "execute_result"
    }
   ],
   "source": [
    "basis = np.array([(0, 1), (1, 0), (0, 0), (1, 1)])"
   ]
  },
  {
   "cell_type": "code",
   "execution_count": 68,
   "metadata": {},
   "outputs": [
    {
     "data": {
      "text/plain": [
       "(array([-0.70181393+0.69505059j, -0.15608295+0.j        ]),\n",
       " array([-0.70181393+0.69505059j, -0.70181393+0.69505059j]))"
      ]
     },
     "execution_count": 68,
     "metadata": {},
     "output_type": "execute_result"
    }
   ],
   "source": [
    "state1 = cos_theta * basis[0] + exp_phi * sin_theta * basis[1]\n",
    "state2 = cos_theta * basis[2] + exp_phi * sin_theta * basis[3]\n",
    "\n",
    "state1, state2"
   ]
  },
  {
   "cell_type": "markdown",
   "metadata": {},
   "source": [
    "### Method 2\n",
    "\n",
    "Generate entangled states using random density matrices, that are hermitian matrices such that their trace is equal to 1"
   ]
  },
  {
   "cell_type": "code",
   "execution_count": 11,
   "metadata": {},
   "outputs": [],
   "source": [
    "def generate_hermitian_product_states(size, n_matrices):\n",
    "    \n",
    "    product_states = []\n",
    "    for _ in range(n_matrices):\n",
    "        real_part = np.random.rand(size, size)\n",
    "        imag_part = np.random.rand(size, size)\n",
    "        product_state = real_part + 1j * imag_part\n",
    "        product_state = np.matmul(product_state, product_state.conj().T)\n",
    "        product_state /= np.trace(product_state)\n",
    "        product_states.append(product_state)\n",
    "        \n",
    "    return np.array(product_states)"
   ]
  },
  {
   "cell_type": "code",
   "execution_count": 12,
   "metadata": {},
   "outputs": [
    {
     "data": {
      "text/plain": [
       "array([[[0.39956837+0.j        , 0.24929193-0.08410831j,\n",
       "         0.25093194-0.18063393j],\n",
       "        [0.24929193+0.08410831j, 0.33984906+0.j        ,\n",
       "         0.24672089-0.07853808j],\n",
       "        [0.25093194+0.18063393j, 0.24672089+0.07853808j,\n",
       "         0.26058257+0.j        ]],\n",
       "\n",
       "       [[0.21993132+0.j        , 0.26216897-0.00441569j,\n",
       "         0.26282109+0.03656981j],\n",
       "        [0.26216897+0.00441569j, 0.35548601+0.j        ,\n",
       "         0.36707519+0.07265365j],\n",
       "        [0.26282109-0.03656981j, 0.36707519-0.07265365j,\n",
       "         0.42458268+0.j        ]]])"
      ]
     },
     "execution_count": 12,
     "metadata": {},
     "output_type": "execute_result"
    }
   ],
   "source": [
    "matrices = generate_hermitian_product_states(size=3, n_matrices=2)\n",
    "\n",
    "matrices"
   ]
  },
  {
   "cell_type": "code",
   "execution_count": 13,
   "metadata": {},
   "outputs": [
    {
     "data": {
      "text/plain": [
       "array([[0.0878776 +0.j        , 0.10475443-0.00176437j,\n",
       "        0.10501499+0.01461214j, 0.0548271 -0.01849805j,\n",
       "        0.06498521-0.02315139j, 0.068595  -0.01298888j,\n",
       "        0.05518779-0.03972706j, 0.06498895-0.04846465j,\n",
       "        0.07255596-0.03829787j],\n",
       "       [0.10475443+0.00176437j, 0.14204096+0.j        ,\n",
       "        0.14667164+0.0290301j , 0.06572801-0.02094979j,\n",
       "        0.08861979-0.02989933j, 0.09761966-0.01276211j,\n",
       "        0.06658419-0.04624858j, 0.08920279-0.06421284j,\n",
       "        0.10523461-0.04807511j],\n",
       "       [0.10501499-0.01461214j, 0.14667164-0.0290301j ,\n",
       "        0.16964981+0.j        , 0.06244335-0.031222j  ,\n",
       "        0.08539811-0.04898604j, 0.10584503-0.03571093j,\n",
       "        0.05934446-0.05665094j, 0.07898718-0.08453736j,\n",
       "        0.10654136-0.07669404j],\n",
       "       [0.0548271 +0.01849805j, 0.06572801+0.02094979j,\n",
       "        0.06244335+0.031222j  , 0.07474345+0.j        ,\n",
       "        0.08909788-0.00150067j, 0.0893195 +0.01242822j,\n",
       "        0.05426165-0.01727298j, 0.06433576-0.02167969j,\n",
       "        0.06771558-0.01161893j],\n",
       "       [0.06498521+0.02315139j, 0.08861979+0.02989933j,\n",
       "        0.08539811+0.04898604j, 0.08909788+0.00150067j,\n",
       "        0.12081158+0.j        , 0.12475016+0.02469128j,\n",
       "        0.06502936-0.0195008j , 0.08770582-0.02791919j,\n",
       "        0.0962712 -0.01090421j],\n",
       "       [0.068595  +0.01298888j, 0.09761966+0.01276211j,\n",
       "        0.10584503+0.03571093j, 0.0893195 -0.01242822j,\n",
       "        0.12475016-0.02469128j, 0.14429402+0.j        ,\n",
       "        0.06197133-0.029664j  , 0.08485904-0.04675456j,\n",
       "        0.10475342-0.03334591j],\n",
       "       [0.05518779+0.03972706j, 0.06658419+0.04624858j,\n",
       "        0.05934446+0.05665094j, 0.05426165+0.01727298j,\n",
       "        0.06502936+0.0195008j , 0.06197133+0.029664j  ,\n",
       "        0.05731027+0.j        , 0.06831667-0.00115065j,\n",
       "        0.0684866 +0.00952946j],\n",
       "       [0.06498895+0.04846465j, 0.08920279+0.06421284j,\n",
       "        0.07898718+0.08453736j, 0.06433576+0.02167969j,\n",
       "        0.08770582+0.02791919j, 0.08485904+0.04675456j,\n",
       "        0.06831667+0.00115065j, 0.09263346+0.j        ,\n",
       "        0.0956534 +0.01893228j],\n",
       "       [0.07255596+0.03829787j, 0.10523461+0.04807511j,\n",
       "        0.10654136+0.07669404j, 0.06771558+0.01161893j,\n",
       "        0.0962712 +0.01090421j, 0.10475342+0.03334591j,\n",
       "        0.0684866 -0.00952946j, 0.0956534 -0.01893228j,\n",
       "        0.11063885+0.j        ]])"
      ]
     },
     "execution_count": 13,
     "metadata": {},
     "output_type": "execute_result"
    }
   ],
   "source": [
    "np.kron(matrices[0], matrices[1])"
   ]
  }
 ],
 "metadata": {
  "kernelspec": {
   "display_name": "Python 3",
   "language": "python",
   "name": "python3"
  },
  "language_info": {
   "codemirror_mode": {
    "name": "ipython",
    "version": 3
   },
   "file_extension": ".py",
   "mimetype": "text/x-python",
   "name": "python",
   "nbconvert_exporter": "python",
   "pygments_lexer": "ipython3",
   "version": "3.11.0"
  }
 },
 "nbformat": 4,
 "nbformat_minor": 2
}
