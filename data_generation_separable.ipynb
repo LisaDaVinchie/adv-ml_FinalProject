{
 "cells": [
  {
   "cell_type": "code",
   "execution_count": 1,
   "metadata": {},
   "outputs": [],
   "source": [
    "import numpy as np\n",
    "import torch as th\n",
    "# import torch.nn as nn\n",
    "# import torch.nn.functional as F"
   ]
  },
  {
   "cell_type": "markdown",
   "metadata": {},
   "source": [
    "## Generate separable states\n",
    "\n",
    "1. Generate random 4 $\\times$ 4 matrix\n",
    "2. Generate a self-adjoint matrix by multiplying the previous matrix by its conjugate transpose\n",
    "3. Generate a density matrix by dividing the previous matrix by its trace"
   ]
  },
  {
   "cell_type": "code",
   "execution_count": 2,
   "metadata": {},
   "outputs": [],
   "source": [
    "def generate_random_square_matrices(rows, n_qubits):\n",
    "\n",
    "    matrices = []\n",
    "    for _ in range(n_qubits):\n",
    "        real_part = np.random.rand(rows, rows)\n",
    "        imag_part = np.random.rand(rows, rows)\n",
    "        matrices.append(real_part + 1j * imag_part)\n",
    "    return np.array(matrices)"
   ]
  },
  {
   "cell_type": "code",
   "execution_count": 3,
   "metadata": {},
   "outputs": [
    {
     "data": {
      "text/plain": [
       "(2, 4, 4)"
      ]
     },
     "execution_count": 3,
     "metadata": {},
     "output_type": "execute_result"
    }
   ],
   "source": [
    "n_rows = 4\n",
    "\n",
    "n_qubits = 2\n",
    "\n",
    "matrices = generate_random_square_matrices(n_rows, n_qubits)\n",
    "matrices.shape"
   ]
  },
  {
   "cell_type": "code",
   "execution_count": 4,
   "metadata": {},
   "outputs": [],
   "source": [
    "def generate_hermitian_product_states(dimensions):\n",
    "    \n",
    "    product_states = []\n",
    "    for dim in dimensions:\n",
    "        real_part = np.random.rand(dim[0], dim[1])\n",
    "        imag_part = np.random.rand(dim[0], dim[1])\n",
    "        product_state = real_part + 1j * imag_part\n",
    "        product_state = np.matmul(product_state, product_state.conj().T)\n",
    "        product_state /= np.trace(product_state)\n",
    "        product_states.append(product_state)\n",
    "        \n",
    "    return np.array(product_states)\n",
    "\n",
    "def generate_orthonormal_matrices(n_rows, n_matrices):\n",
    "    \n",
    "    ort_matrices = []\n",
    "    for _ in range(n_matrices):\n",
    "        random_matrix = np.random.rand(n_rows, n_rows)\n",
    "        ort_matrix, _ = np.linalg.qr(random_matrix)\n",
    "        \n",
    "        for j in range(n_rows):\n",
    "            ort_matrix[:, j] /= np.linalg.norm(ort_matrix[:, j])\n",
    "            \n",
    "    ort_matrices.append(ort_matrix)\n",
    "    \n",
    "    return np.array(ort_matrices)\n",
    "\n",
    "def generate_orthonormal_product_states(n_rows, n_matrices):\n",
    "    \n",
    "    ort_matrices = []\n",
    "    for _ in range(n_matrices):\n",
    "        random_matrix = np.random.rand(n_rows, n_rows)\n",
    "        ort_matrix, _ = np.linalg.qr(random_matrix)\n",
    "        \n",
    "        herm = ort_matrix - (1 / n_rows) * np.eye(n_rows)\n",
    "            \n",
    "        ort_matrices.append(herm)\n",
    "    \n",
    "    return np.array(ort_matrices)\n",
    "            "
   ]
  },
  {
   "cell_type": "code",
   "execution_count": 5,
   "metadata": {},
   "outputs": [
    {
     "data": {
      "text/plain": [
       "-0.5162622614126825"
      ]
     },
     "execution_count": 5,
     "metadata": {},
     "output_type": "execute_result"
    }
   ],
   "source": [
    "ort_matrices = generate_orthonormal_matrices(n_rows=n_rows, n_matrices=n_qubits)\n",
    "\n",
    "np.trace(ort_matrices[0])"
   ]
  },
  {
   "cell_type": "markdown",
   "metadata": {},
   "source": [
    "## Generate the Schmidt coefficients $\\alpha$\n",
    "\n",
    "Generate $N$ random numbers $\\alpha_i$ such that\n",
    "1. $\\sum \\alpha_i = 1$\n",
    "2. $\\alpha_i > 0$\n",
    "\n",
    "Do this by:\n",
    "1. Generate $N$ random numbers between 0 and 1\n",
    "2. Divide each one of them by their sum"
   ]
  },
  {
   "cell_type": "code",
   "execution_count": 9,
   "metadata": {},
   "outputs": [],
   "source": [
    "def generate_coefficients(n):\n",
    "    rand_numbers = np.random.rand(n)\n",
    "    \n",
    "    return rand_numbers / np.sum(rand_numbers)"
   ]
  },
  {
   "cell_type": "code",
   "execution_count": 16,
   "metadata": {},
   "outputs": [
    {
     "data": {
      "text/plain": [
       "(array([0.49377816, 0.03084844, 0.05725369, 0.4181197 ]), 1.0)"
      ]
     },
     "execution_count": 16,
     "metadata": {},
     "output_type": "execute_result"
    }
   ],
   "source": [
    "coeffs = generate_coefficients(n_rows)\n",
    "\n",
    "coeffs, np.sum(coeffs)"
   ]
  },
  {
   "cell_type": "markdown",
   "metadata": {},
   "source": [
    "## Calculate separable state\n",
    "\n",
    "Create the separable state by performing\n",
    "\n",
    "$$\\rho_{SEP} = \\sum_{i = 1} ^ N \\alpha_i \\rho_A^i \\otimes \\rho_B^i$$"
   ]
  },
  {
   "cell_type": "code",
   "execution_count": 8,
   "metadata": {},
   "outputs": [
    {
     "ename": "NameError",
     "evalue": "name 'herm_matrices' is not defined",
     "output_type": "error",
     "traceback": [
      "\u001b[0;31m---------------------------------------------------------------------------\u001b[0m",
      "\u001b[0;31mNameError\u001b[0m                                 Traceback (most recent call last)",
      "Cell \u001b[0;32mIn [8], line 19\u001b[0m\n\u001b[1;32m     16\u001b[0m     \u001b[38;5;66;03m# return tensor_dot_product\u001b[39;00m\n\u001b[1;32m     17\u001b[0m     \u001b[38;5;28;01mreturn\u001b[39;00m np\u001b[38;5;241m.\u001b[39madd\u001b[38;5;241m.\u001b[39mreduce(tensor_dot_product)\n\u001b[0;32m---> 19\u001b[0m tensor_dot_product \u001b[38;5;241m=\u001b[39m calculate_tensor_product(\u001b[43mherm_matrices\u001b[49m, coeffs)\n\u001b[1;32m     21\u001b[0m tensor_dot_product\u001b[38;5;241m.\u001b[39mshape\n",
      "\u001b[0;31mNameError\u001b[0m: name 'herm_matrices' is not defined"
     ]
    }
   ],
   "source": [
    "def calculate_tensor_product(herm_matrices, coeffs):\n",
    "\n",
    "    sep_state = np.zeros(herm_matrices.shape[0], dtype=np.complex_128)\n",
    "    \n",
    "    for i in range(len(coeffs)):\n",
    "        # temp_product = np.tensordot(herm_matrices[0, :, i], herm_matrices[1, :, i], axes=0)\n",
    "        temp_product = np.kron(herm_matrices[0, :, i], herm_matrices[1, :, i])\n",
    "        \n",
    "        if(herm_matrices.shape[0] > 2):\n",
    "            for j in np.arange(2, herm_matrices.shape[0]):\n",
    "                # temp_product = np.tensordot(temp_product, herm_matrices[j, :, i], axes=0)\n",
    "                temp_product = np.kron(temp_product, herm_matrices[j, :, i])\n",
    "                \n",
    "    tensor_dot_product.append(coeffs[i] * temp_product)\n",
    "    \n",
    "    # return tensor_dot_product\n",
    "    return np.add.reduce(tensor_dot_product)\n",
    "\n",
    "tensor_dot_product = calculate_tensor_product(herm_matrices, coeffs)\n",
    "\n",
    "tensor_dot_product.shape"
   ]
  },
  {
   "cell_type": "markdown",
   "metadata": {},
   "source": [
    "## Generate many separable states\n",
    "\n",
    "Unite what we did previously in a single function"
   ]
  },
  {
   "cell_type": "code",
   "execution_count": null,
   "metadata": {},
   "outputs": [],
   "source": [
    "def generate_separable_states(dimensions, n_states):\n",
    "    sep_states = []\n",
    "    for _ in range(n_states):\n",
    "        herm_matrices = generate_hermitian_product_states(dimensions)\n",
    "        coeffs = generate_coefficients(n_rows)\n",
    "        tensor_dot_product = calculate_tensor_product(herm_matrices, coeffs)\n",
    "        sep_states.append(tensor_dot_product)\n",
    "    return np.array(sep_states)\n",
    "    \n",
    "\n",
    "sep_states = generate_separable_states(n_rows, n_qubits, 100)"
   ]
  },
  {
   "cell_type": "code",
   "execution_count": null,
   "metadata": {},
   "outputs": [
    {
     "data": {
      "text/plain": [
       "(100, 4)"
      ]
     },
     "execution_count": 36,
     "metadata": {},
     "output_type": "execute_result"
    }
   ],
   "source": [
    "sep_states.shape"
   ]
  },
  {
   "cell_type": "code",
   "execution_count": null,
   "metadata": {},
   "outputs": [
    {
     "data": {
      "text/plain": [
       "(100, 2, 2)"
      ]
     },
     "execution_count": 24,
     "metadata": {},
     "output_type": "execute_result"
    }
   ],
   "source": [
    "import generate_separable_states as gss\n",
    "\n",
    "sep_states = gss.generate_separable_states(n_rows, n_qubits, 100)\n",
    "\n",
    "sep_states.shape"
   ]
  }
 ],
 "metadata": {
  "kernelspec": {
   "display_name": "Python 3",
   "language": "python",
   "name": "python3"
  },
  "language_info": {
   "codemirror_mode": {
    "name": "ipython",
    "version": 3
   },
   "file_extension": ".py",
   "mimetype": "text/x-python",
   "name": "python",
   "nbconvert_exporter": "python",
   "pygments_lexer": "ipython3",
   "version": "3.11.0"
  }
 },
 "nbformat": 4,
 "nbformat_minor": 2
}
