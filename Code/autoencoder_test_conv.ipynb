{
 "cells": [
  {
   "cell_type": "code",
   "execution_count": 4,
   "metadata": {},
   "outputs": [],
   "source": [
    "# Import libraries\n",
    "import torch as th\n",
    "import torch.nn as nn\n",
    "import torch.nn.functional as F\n",
    "from torch.utils.data import DataLoader, TensorDataset\n",
    "import torch.optim as optim\n",
    "from tqdm.auto import trange\n",
    "from sklearn.model_selection import train_test_split\n",
    "import numpy as np\n",
    "import matplotlib.pyplot as plt"
   ]
  },
  {
   "cell_type": "code",
   "execution_count": 48,
   "metadata": {},
   "outputs": [],
   "source": [
    "# Import datasets\n",
    "\n",
    "sep_data = th.load('../datasets/sep_states.pt')\n",
    "\n",
    "ent_data = th.load('../datasets/ent_states.pt')\n",
    "\n",
    "# sep_data_pair = th.stack((sep_data.real, sep_data.imag), dim=2)\n",
    "# ent_data_pair = th.stack((ent_data.real, ent_data.imag), dim=1)\n",
    "\n",
    "# sep_data_pair.shape, ent_data_pair.shape"
   ]
  },
  {
   "cell_type": "code",
   "execution_count": 49,
   "metadata": {},
   "outputs": [
    {
     "data": {
      "text/plain": [
       "(torch.Size([7000, 4]),\n",
       " torch.Size([3000, 4]),\n",
       " torch.Size([7000, 4]),\n",
       " torch.Size([3000, 4]))"
      ]
     },
     "execution_count": 49,
     "metadata": {},
     "output_type": "execute_result"
    }
   ],
   "source": [
    "sep_train, sep_test = train_test_split(sep_data, test_size=0.3)\n",
    "ent_train, ent_test = train_test_split(ent_data, test_size=0.3)\n",
    "\n",
    "sep_train.shape, sep_test.shape, ent_train.shape, ent_test.shape"
   ]
  },
  {
   "cell_type": "code",
   "execution_count": 60,
   "metadata": {},
   "outputs": [
    {
     "data": {
      "text/plain": [
       "(torch.Size([7000, 2, 4]), torch.Size([7000, 2, 4]))"
      ]
     },
     "execution_count": 60,
     "metadata": {},
     "output_type": "execute_result"
    }
   ],
   "source": [
    "sep_train_pair = th.stack((sep_train.real, sep_train.imag), dim=1)\n",
    "ent_train_pair = th.stack((ent_train.real, ent_train.imag), dim=1)\n",
    "\n",
    "sep_test_pair = th.stack((sep_test.real, sep_test.imag), dim=1)\n",
    "ent_test_pair = th.stack((ent_test.real, ent_test.imag), dim=1)\n",
    "\n",
    "sep_train_pair.shape, ent_train_pair.shape"
   ]
  },
  {
   "cell_type": "code",
   "execution_count": 61,
   "metadata": {},
   "outputs": [],
   "source": [
    "# # Split the data into training and testing sets\n",
    "\n",
    "# sep_train, sep_test = train_test_split(sep_data_pair, test_size=0.3)\n",
    "# ent_train, ent_test = train_test_split(ent_data_pair, test_size=0.3)\n",
    "\n",
    "# sep_train.shape, sep_test.shape, ent_train.shape, ent_test.shape"
   ]
  },
  {
   "cell_type": "code",
   "execution_count": 64,
   "metadata": {},
   "outputs": [
    {
     "data": {
      "text/plain": [
       "(torch.Size([7000, 2, 4]), torch.Size([7000, 2, 4]))"
      ]
     },
     "execution_count": 64,
     "metadata": {},
     "output_type": "execute_result"
    }
   ],
   "source": [
    "BATCH_SIZE = 64\n",
    "ent_train_loader = DataLoader(ent_train_pair, batch_size=BATCH_SIZE, shuffle=True)\n",
    "ent_test_loader = DataLoader(ent_test_pair, batch_size=BATCH_SIZE, shuffle=True)\n",
    "sep_train_loader = DataLoader(sep_train_pair, batch_size=BATCH_SIZE, shuffle=True)\n",
    "sep_test_loader = DataLoader(sep_test_pair, batch_size=BATCH_SIZE, shuffle=True)\n",
    "\n",
    "ent_train_loader.dataset.shape, ent_train_loader.dataset.shape"
   ]
  },
  {
   "cell_type": "code",
   "execution_count": 76,
   "metadata": {},
   "outputs": [
    {
     "name": "stdout",
     "output_type": "stream",
     "text": [
      "input torch.Size([64, 1, 2, 4])\n",
      "enc1 torch.Size([64, 10, 2, 4])\n",
      "enc2 torch.Size([64, 5, 2, 4])\n",
      "view torch.Size([64, 40])\n"
     ]
    },
    {
     "ename": "RuntimeError",
     "evalue": "mat1 and mat2 shapes cannot be multiplied (64x40 and 5x2)",
     "output_type": "error",
     "traceback": [
      "\u001b[0;31m---------------------------------------------------------------------------\u001b[0m",
      "\u001b[0;31mRuntimeError\u001b[0m                              Traceback (most recent call last)",
      "Cell \u001b[0;32mIn [76], line 55\u001b[0m\n\u001b[1;32m     52\u001b[0m model \u001b[38;5;241m=\u001b[39m VAE_fc(input_size\u001b[38;5;241m=\u001b[39m\u001b[38;5;241m4\u001b[39m, in_channels \u001b[38;5;241m=\u001b[39m \u001b[38;5;241m1\u001b[39m, hidden_size\u001b[38;5;241m=\u001b[39m[\u001b[38;5;241m10\u001b[39m, \u001b[38;5;241m5\u001b[39m, \u001b[38;5;241m2\u001b[39m], kernel_size\u001b[38;5;241m=\u001b[39m[\u001b[38;5;241m1\u001b[39m, \u001b[38;5;241m1\u001b[39m])\n\u001b[1;32m     54\u001b[0m \u001b[38;5;28;01mfor\u001b[39;00m _, data \u001b[38;5;129;01min\u001b[39;00m \u001b[38;5;28menumerate\u001b[39m(ent_train_loader):\n\u001b[0;32m---> 55\u001b[0m     \u001b[38;5;28mprint\u001b[39m(\u001b[43mmodel\u001b[49m\u001b[43m(\u001b[49m\u001b[43mdata\u001b[49m\u001b[38;5;241;43m.\u001b[39;49m\u001b[43mreshape\u001b[49m\u001b[43m(\u001b[49m\u001b[38;5;241;43m-\u001b[39;49m\u001b[38;5;241;43m1\u001b[39;49m\u001b[43m,\u001b[49m\u001b[43m \u001b[49m\u001b[38;5;241;43m1\u001b[39;49m\u001b[43m,\u001b[49m\u001b[43m \u001b[49m\u001b[38;5;241;43m2\u001b[39;49m\u001b[43m,\u001b[49m\u001b[43m \u001b[49m\u001b[38;5;241;43m4\u001b[39;49m\u001b[43m)\u001b[49m\u001b[43m)\u001b[49m)\n\u001b[1;32m     56\u001b[0m     \u001b[38;5;28;01mbreak\u001b[39;00m\n",
      "File \u001b[0;32m/Library/Frameworks/Python.framework/Versions/3.11/lib/python3.11/site-packages/torch/nn/modules/module.py:1518\u001b[0m, in \u001b[0;36mModule._wrapped_call_impl\u001b[0;34m(self, *args, **kwargs)\u001b[0m\n\u001b[1;32m   1516\u001b[0m     \u001b[38;5;28;01mreturn\u001b[39;00m \u001b[38;5;28mself\u001b[39m\u001b[38;5;241m.\u001b[39m_compiled_call_impl(\u001b[38;5;241m*\u001b[39margs, \u001b[38;5;241m*\u001b[39m\u001b[38;5;241m*\u001b[39mkwargs)  \u001b[38;5;66;03m# type: ignore[misc]\u001b[39;00m\n\u001b[1;32m   1517\u001b[0m \u001b[38;5;28;01melse\u001b[39;00m:\n\u001b[0;32m-> 1518\u001b[0m     \u001b[38;5;28;01mreturn\u001b[39;00m \u001b[38;5;28;43mself\u001b[39;49m\u001b[38;5;241;43m.\u001b[39;49m\u001b[43m_call_impl\u001b[49m\u001b[43m(\u001b[49m\u001b[38;5;241;43m*\u001b[39;49m\u001b[43margs\u001b[49m\u001b[43m,\u001b[49m\u001b[43m \u001b[49m\u001b[38;5;241;43m*\u001b[39;49m\u001b[38;5;241;43m*\u001b[39;49m\u001b[43mkwargs\u001b[49m\u001b[43m)\u001b[49m\n",
      "File \u001b[0;32m/Library/Frameworks/Python.framework/Versions/3.11/lib/python3.11/site-packages/torch/nn/modules/module.py:1527\u001b[0m, in \u001b[0;36mModule._call_impl\u001b[0;34m(self, *args, **kwargs)\u001b[0m\n\u001b[1;32m   1522\u001b[0m \u001b[38;5;66;03m# If we don't have any hooks, we want to skip the rest of the logic in\u001b[39;00m\n\u001b[1;32m   1523\u001b[0m \u001b[38;5;66;03m# this function, and just call forward.\u001b[39;00m\n\u001b[1;32m   1524\u001b[0m \u001b[38;5;28;01mif\u001b[39;00m \u001b[38;5;129;01mnot\u001b[39;00m (\u001b[38;5;28mself\u001b[39m\u001b[38;5;241m.\u001b[39m_backward_hooks \u001b[38;5;129;01mor\u001b[39;00m \u001b[38;5;28mself\u001b[39m\u001b[38;5;241m.\u001b[39m_backward_pre_hooks \u001b[38;5;129;01mor\u001b[39;00m \u001b[38;5;28mself\u001b[39m\u001b[38;5;241m.\u001b[39m_forward_hooks \u001b[38;5;129;01mor\u001b[39;00m \u001b[38;5;28mself\u001b[39m\u001b[38;5;241m.\u001b[39m_forward_pre_hooks\n\u001b[1;32m   1525\u001b[0m         \u001b[38;5;129;01mor\u001b[39;00m _global_backward_pre_hooks \u001b[38;5;129;01mor\u001b[39;00m _global_backward_hooks\n\u001b[1;32m   1526\u001b[0m         \u001b[38;5;129;01mor\u001b[39;00m _global_forward_hooks \u001b[38;5;129;01mor\u001b[39;00m _global_forward_pre_hooks):\n\u001b[0;32m-> 1527\u001b[0m     \u001b[38;5;28;01mreturn\u001b[39;00m \u001b[43mforward_call\u001b[49m\u001b[43m(\u001b[49m\u001b[38;5;241;43m*\u001b[39;49m\u001b[43margs\u001b[49m\u001b[43m,\u001b[49m\u001b[43m \u001b[49m\u001b[38;5;241;43m*\u001b[39;49m\u001b[38;5;241;43m*\u001b[39;49m\u001b[43mkwargs\u001b[49m\u001b[43m)\u001b[49m\n\u001b[1;32m   1529\u001b[0m \u001b[38;5;28;01mtry\u001b[39;00m:\n\u001b[1;32m   1530\u001b[0m     result \u001b[38;5;241m=\u001b[39m \u001b[38;5;28;01mNone\u001b[39;00m\n",
      "Cell \u001b[0;32mIn [76], line 47\u001b[0m, in \u001b[0;36mVAE_fc.forward\u001b[0;34m(self, x)\u001b[0m\n\u001b[1;32m     46\u001b[0m \u001b[38;5;28;01mdef\u001b[39;00m \u001b[38;5;21mforward\u001b[39m(\u001b[38;5;28mself\u001b[39m, x):\n\u001b[0;32m---> 47\u001b[0m     mu, logvar \u001b[38;5;241m=\u001b[39m \u001b[38;5;28;43mself\u001b[39;49m\u001b[38;5;241;43m.\u001b[39;49m\u001b[43mencoder\u001b[49m\u001b[43m(\u001b[49m\u001b[43mx\u001b[49m\u001b[43m)\u001b[49m\n\u001b[1;32m     48\u001b[0m     \u001b[38;5;66;03m# z = self.reparametrize(mu, logvar)\u001b[39;00m\n\u001b[1;32m     49\u001b[0m     \u001b[38;5;66;03m# decoded = self.decoder(z)\u001b[39;00m\n\u001b[1;32m     50\u001b[0m     \u001b[38;5;28;01mreturn\u001b[39;00m  mu, logvar\n",
      "Cell \u001b[0;32mIn [76], line 27\u001b[0m, in \u001b[0;36mVAE_fc.encoder\u001b[0;34m(self, x)\u001b[0m\n\u001b[1;32m     25\u001b[0m x \u001b[38;5;241m=\u001b[39m x\u001b[38;5;241m.\u001b[39mview(x\u001b[38;5;241m.\u001b[39mshape[\u001b[38;5;241m0\u001b[39m], \u001b[38;5;241m-\u001b[39m\u001b[38;5;241m1\u001b[39m)\n\u001b[1;32m     26\u001b[0m \u001b[38;5;28mprint\u001b[39m(\u001b[38;5;124m\"\u001b[39m\u001b[38;5;124mview\u001b[39m\u001b[38;5;124m\"\u001b[39m, x\u001b[38;5;241m.\u001b[39mshape)\n\u001b[0;32m---> 27\u001b[0m mu \u001b[38;5;241m=\u001b[39m F\u001b[38;5;241m.\u001b[39mrelu(\u001b[38;5;28;43mself\u001b[39;49m\u001b[38;5;241;43m.\u001b[39;49m\u001b[43menc_mu\u001b[49m\u001b[43m(\u001b[49m\u001b[43mx\u001b[49m\u001b[43m)\u001b[49m)\n\u001b[1;32m     28\u001b[0m \u001b[38;5;28mprint\u001b[39m(\u001b[38;5;124m\"\u001b[39m\u001b[38;5;124mmu\u001b[39m\u001b[38;5;124m\"\u001b[39m, mu\u001b[38;5;241m.\u001b[39mshape)\n\u001b[1;32m     29\u001b[0m logvar \u001b[38;5;241m=\u001b[39m F\u001b[38;5;241m.\u001b[39mrelu(\u001b[38;5;28mself\u001b[39m\u001b[38;5;241m.\u001b[39menc_logvar(x))\n",
      "File \u001b[0;32m/Library/Frameworks/Python.framework/Versions/3.11/lib/python3.11/site-packages/torch/nn/modules/module.py:1518\u001b[0m, in \u001b[0;36mModule._wrapped_call_impl\u001b[0;34m(self, *args, **kwargs)\u001b[0m\n\u001b[1;32m   1516\u001b[0m     \u001b[38;5;28;01mreturn\u001b[39;00m \u001b[38;5;28mself\u001b[39m\u001b[38;5;241m.\u001b[39m_compiled_call_impl(\u001b[38;5;241m*\u001b[39margs, \u001b[38;5;241m*\u001b[39m\u001b[38;5;241m*\u001b[39mkwargs)  \u001b[38;5;66;03m# type: ignore[misc]\u001b[39;00m\n\u001b[1;32m   1517\u001b[0m \u001b[38;5;28;01melse\u001b[39;00m:\n\u001b[0;32m-> 1518\u001b[0m     \u001b[38;5;28;01mreturn\u001b[39;00m \u001b[38;5;28;43mself\u001b[39;49m\u001b[38;5;241;43m.\u001b[39;49m\u001b[43m_call_impl\u001b[49m\u001b[43m(\u001b[49m\u001b[38;5;241;43m*\u001b[39;49m\u001b[43margs\u001b[49m\u001b[43m,\u001b[49m\u001b[43m \u001b[49m\u001b[38;5;241;43m*\u001b[39;49m\u001b[38;5;241;43m*\u001b[39;49m\u001b[43mkwargs\u001b[49m\u001b[43m)\u001b[49m\n",
      "File \u001b[0;32m/Library/Frameworks/Python.framework/Versions/3.11/lib/python3.11/site-packages/torch/nn/modules/module.py:1527\u001b[0m, in \u001b[0;36mModule._call_impl\u001b[0;34m(self, *args, **kwargs)\u001b[0m\n\u001b[1;32m   1522\u001b[0m \u001b[38;5;66;03m# If we don't have any hooks, we want to skip the rest of the logic in\u001b[39;00m\n\u001b[1;32m   1523\u001b[0m \u001b[38;5;66;03m# this function, and just call forward.\u001b[39;00m\n\u001b[1;32m   1524\u001b[0m \u001b[38;5;28;01mif\u001b[39;00m \u001b[38;5;129;01mnot\u001b[39;00m (\u001b[38;5;28mself\u001b[39m\u001b[38;5;241m.\u001b[39m_backward_hooks \u001b[38;5;129;01mor\u001b[39;00m \u001b[38;5;28mself\u001b[39m\u001b[38;5;241m.\u001b[39m_backward_pre_hooks \u001b[38;5;129;01mor\u001b[39;00m \u001b[38;5;28mself\u001b[39m\u001b[38;5;241m.\u001b[39m_forward_hooks \u001b[38;5;129;01mor\u001b[39;00m \u001b[38;5;28mself\u001b[39m\u001b[38;5;241m.\u001b[39m_forward_pre_hooks\n\u001b[1;32m   1525\u001b[0m         \u001b[38;5;129;01mor\u001b[39;00m _global_backward_pre_hooks \u001b[38;5;129;01mor\u001b[39;00m _global_backward_hooks\n\u001b[1;32m   1526\u001b[0m         \u001b[38;5;129;01mor\u001b[39;00m _global_forward_hooks \u001b[38;5;129;01mor\u001b[39;00m _global_forward_pre_hooks):\n\u001b[0;32m-> 1527\u001b[0m     \u001b[38;5;28;01mreturn\u001b[39;00m \u001b[43mforward_call\u001b[49m\u001b[43m(\u001b[49m\u001b[38;5;241;43m*\u001b[39;49m\u001b[43margs\u001b[49m\u001b[43m,\u001b[49m\u001b[43m \u001b[49m\u001b[38;5;241;43m*\u001b[39;49m\u001b[38;5;241;43m*\u001b[39;49m\u001b[43mkwargs\u001b[49m\u001b[43m)\u001b[49m\n\u001b[1;32m   1529\u001b[0m \u001b[38;5;28;01mtry\u001b[39;00m:\n\u001b[1;32m   1530\u001b[0m     result \u001b[38;5;241m=\u001b[39m \u001b[38;5;28;01mNone\u001b[39;00m\n",
      "File \u001b[0;32m/Library/Frameworks/Python.framework/Versions/3.11/lib/python3.11/site-packages/torch/nn/modules/linear.py:114\u001b[0m, in \u001b[0;36mLinear.forward\u001b[0;34m(self, input)\u001b[0m\n\u001b[1;32m    113\u001b[0m \u001b[38;5;28;01mdef\u001b[39;00m \u001b[38;5;21mforward\u001b[39m(\u001b[38;5;28mself\u001b[39m, \u001b[38;5;28minput\u001b[39m: Tensor) \u001b[38;5;241m-\u001b[39m\u001b[38;5;241m>\u001b[39m Tensor:\n\u001b[0;32m--> 114\u001b[0m     \u001b[38;5;28;01mreturn\u001b[39;00m \u001b[43mF\u001b[49m\u001b[38;5;241;43m.\u001b[39;49m\u001b[43mlinear\u001b[49m\u001b[43m(\u001b[49m\u001b[38;5;28;43minput\u001b[39;49m\u001b[43m,\u001b[49m\u001b[43m \u001b[49m\u001b[38;5;28;43mself\u001b[39;49m\u001b[38;5;241;43m.\u001b[39;49m\u001b[43mweight\u001b[49m\u001b[43m,\u001b[49m\u001b[43m \u001b[49m\u001b[38;5;28;43mself\u001b[39;49m\u001b[38;5;241;43m.\u001b[39;49m\u001b[43mbias\u001b[49m\u001b[43m)\u001b[49m\n",
      "\u001b[0;31mRuntimeError\u001b[0m: mat1 and mat2 shapes cannot be multiplied (64x40 and 5x2)"
     ]
    }
   ],
   "source": [
    "class VAE_fc(nn.Module):\n",
    "    def __init__(self, input_size, in_channels, hidden_size, kernel_size):\n",
    "        super(VAE_fc, self).__init__()\n",
    "        \n",
    "        data_size = input_size\n",
    "        self.enc1 = nn.Conv2d(in_channels=in_channels, out_channels=hidden_size[0], kernel_size = kernel_size[0])\n",
    "        data_size = data_size - kernel_size[0] + 1\n",
    "        \n",
    "        self.enc2 = nn.Conv2d(in_channels=hidden_size[0], out_channels=hidden_size[1], kernel_size = kernel_size[1])\n",
    "        data_size = data_size - kernel_size[1] + 1\n",
    "        \n",
    "        self.enc_mu = nn.Linear(hidden_size[1], hidden_size[2])\n",
    "        self.enc_logvar = nn.Linear(hidden_size[1] * data_size, hidden_size[2])\n",
    "        \n",
    "        self.dec1 = nn.Linear(hidden_size[2], hidden_size[1])\n",
    "        self.dec2 = nn.Linear(hidden_size[1], hidden_size[0])\n",
    "        self.dec3 = nn.Linear(hidden_size[0], 2)\n",
    "    \n",
    "    def encoder(self, x):\n",
    "        print(\"input\", x.shape)\n",
    "        x = F.relu(self.enc1(x))\n",
    "        print(\"enc1\", x.shape)\n",
    "        x = F.relu(self.enc2(x))\n",
    "        print(\"enc2\", x.shape)\n",
    "        x = x.view(x.shape[0], -1)\n",
    "        print(\"view\", x.shape)\n",
    "        mu = F.relu(self.enc_mu(x))\n",
    "        print(\"mu\", mu.shape)\n",
    "        logvar = F.relu(self.enc_logvar(x))\n",
    "        \n",
    "        return mu, logvar\n",
    "    \n",
    "    def reparametrize(self, mu, logvar):\n",
    "        std = th.exp(0.5 * logvar)\n",
    "        eps = th.randn_like(std)\n",
    "        return mu + eps * std \n",
    "        \n",
    "    \n",
    "    def decoder(self, z):\n",
    "        z = F.relu(self.dec1(z))\n",
    "        z = F.relu(self.dec2(z))\n",
    "        z = th.sigmoid(self.dec3(z))\n",
    "        return z\n",
    "    \n",
    "    \n",
    "    def forward(self, x):\n",
    "        mu, logvar = self.encoder(x)\n",
    "        # z = self.reparametrize(mu, logvar)\n",
    "        # decoded = self.decoder(z)\n",
    "        return  mu, logvar\n",
    "    \n",
    "model = VAE_fc(input_size=4, in_channels = 1, hidden_size=[10, 5, 2], kernel_size=[1, 1])\n",
    "\n",
    "for _, data in enumerate(ent_train_loader):\n",
    "    print(model(data.reshape(-1, 1, 2, 4)))\n",
    "    break"
   ]
  },
  {
   "cell_type": "code",
   "execution_count": null,
   "metadata": {},
   "outputs": [],
   "source": [
    "# Define the training function\n",
    "def train_model(model, train_loader, epochs, optimizer, criterion, device):\n",
    "    trained_model = model.to(device)\n",
    "    trained_model.train()\n",
    "    train_loss = []\n",
    "    for epoch in range(epochs):\n",
    "        batch_loss = 0.0\n",
    "        for data in train_loader:\n",
    "            optimizer.zero_grad()\n",
    "            decoded, z, mu, logvar = trained_model(data)\n",
    "            loss = criterion(data.flatten(start_dim=1), decoded, mu, logvar)\n",
    "            loss.backward()\n",
    "            optimizer.step()\n",
    "            batch_loss += loss.item()\n",
    "        train_loss.append(batch_loss)\n",
    "        \n",
    "        print(f'Epoch: {epoch + 1}, Loss: {batch_loss:.4f}')\n",
    "    return trained_model, np.array(train_loss)\n",
    "\n",
    "def get_test_loss(trained_model, test_loader, criterion):\n",
    "    trained_model.eval()\n",
    "    decoded_data = []\n",
    "    test_loss = 0.0\n",
    "    for _, data in enumerate(test_loader):\n",
    "        decoded, z, mu, logvar = trained_model(data.flatten(start_dim=1))\n",
    "        decoded_data.append(decoded.detach().numpy())\n",
    "        test_loss += criterion(data.flatten(start_dim=1), decoded, mu, logvar).item()\n",
    "    return test_loss, np.array(decoded_data)"
   ]
  },
  {
   "cell_type": "code",
   "execution_count": null,
   "metadata": {},
   "outputs": [],
   "source": [
    "def VAE_loss(input, output, mu, logvar):\n",
    "    reconstruction_loss = F.mse_loss(output, input, reduction='sum')\n",
    "    KL_loss = -0.5 * th.sum(1 + logvar - mu.pow(2) - logvar.exp())\n",
    "    return reconstruction_loss + 0.5 * KL_loss"
   ]
  },
  {
   "cell_type": "code",
   "execution_count": null,
   "metadata": {},
   "outputs": [
    {
     "name": "stdout",
     "output_type": "stream",
     "text": [
      "Epoch: 1, Loss: 67621.8928\n",
      "Epoch: 2, Loss: 287.3284\n",
      "Epoch: 3, Loss: 155.9150\n",
      "Epoch: 4, Loss: 144.9152\n",
      "Epoch: 5, Loss: 137.5894\n",
      "Epoch: 6, Loss: 133.1552\n",
      "Epoch: 7, Loss: 129.5133\n",
      "Epoch: 8, Loss: 127.4527\n",
      "Epoch: 9, Loss: 126.9820\n",
      "Epoch: 10, Loss: 125.5534\n"
     ]
    }
   ],
   "source": [
    "model = VAE_fc(input_size=81 * 2, hidden_size=[81, 40, 20])\n",
    "optimizer = th.optim.Adam(model.parameters(), lr=0.001)\n",
    "\n",
    "trained_model_ent, train_loss_ent = train_model(model, ent_train_loader, 10, optimizer, VAE_loss, 'cpu')"
   ]
  },
  {
   "cell_type": "code",
   "execution_count": null,
   "metadata": {},
   "outputs": [
    {
     "name": "stdout",
     "output_type": "stream",
     "text": [
      "Epoch: 1, Loss: 70224.2004\n",
      "Epoch: 2, Loss: 109.7213\n",
      "Epoch: 3, Loss: 53.6267\n",
      "Epoch: 4, Loss: 42.0341\n",
      "Epoch: 5, Loss: 38.7095\n",
      "Epoch: 6, Loss: 36.0985\n",
      "Epoch: 7, Loss: 35.1431\n",
      "Epoch: 8, Loss: 34.1364\n",
      "Epoch: 9, Loss: 33.3632\n",
      "Epoch: 10, Loss: 32.4152\n"
     ]
    }
   ],
   "source": [
    "model = VAE_fc(input_size=81 * 2, hidden_size=[81, 40, 20])\n",
    "optimizer = th.optim.Adam(model.parameters(), lr=0.001)\n",
    "\n",
    "trained_model_sep, train_loss_sep = train_model(model, sep_train_loader, 10, optimizer, VAE_loss, 'cpu')"
   ]
  },
  {
   "cell_type": "code",
   "execution_count": null,
   "metadata": {},
   "outputs": [
    {
     "name": "stderr",
     "output_type": "stream",
     "text": [
      "/var/folders/tg/s7bvn5_n5ngb3nrzxqsyqbyw0000gn/T/ipykernel_53866/4184396661.py:28: VisibleDeprecationWarning: Creating an ndarray from ragged nested sequences (which is a list-or-tuple of lists-or-tuples-or ndarrays with different lengths or shapes) is deprecated. If you meant to do this, you must specify 'dtype=object' when creating the ndarray.\n",
      "  return test_loss, np.array(decoded_data)\n"
     ]
    },
    {
     "data": {
      "text/plain": [
       "([53.97199733555317, 25.14327786117792],\n",
       " [65.45677861571312, 13.75332409888506])"
      ]
     },
     "execution_count": 15,
     "metadata": {},
     "output_type": "execute_result"
    }
   ],
   "source": [
    "test_loss_ent = []\n",
    "test_loss, decoded_ent = get_test_loss(trained_model_ent, ent_test_loader, VAE_loss)\n",
    "test_loss_ent.append(test_loss)\n",
    "test_loss, decoded_ent = get_test_loss(trained_model_ent, sep_test_loader, VAE_loss)\n",
    "test_loss_ent.append(test_loss)\n",
    "\n",
    "test_loss_sep = []\n",
    "test_loss, decoded_sep = get_test_loss(trained_model_sep, ent_test_loader, VAE_loss)\n",
    "test_loss_sep.append(test_loss)\n",
    "test_loss, decoded_sep = get_test_loss(trained_model_sep, sep_test_loader, VAE_loss)\n",
    "test_loss_sep.append(test_loss)\n",
    "\n",
    "test_loss_ent, test_loss_sep"
   ]
  },
  {
   "cell_type": "code",
   "execution_count": null,
   "metadata": {},
   "outputs": [
    {
     "data": {
      "text/plain": [
       "<matplotlib.legend.Legend at 0x129aceed0>"
      ]
     },
     "execution_count": 16,
     "metadata": {},
     "output_type": "execute_result"
    },
    {
     "data": {
      "image/png": "[encoded data removed]",
      "text/plain": [
       "<Figure size 640x480 with 1 Axes>"
      ]
     },
     "metadata": {},
     "output_type": "display_data"
    }
   ],
   "source": [
    "x_values = np.arange(1, len(train_loss_ent) + 1)\n",
    "plt.plot(x_values, train_loss_ent, label='Training Loss (Entangled)')\n",
    "plt.plot(x_values, train_loss_sep, label='Training Loss (Separable)')\n",
    "plt.xlabel('Epochs')\n",
    "plt.ylabel('Loss')\n",
    "plt.xticks(x_values)\n",
    "plt.legend()"
   ]
  }
 ],
 "metadata": {
  "kernelspec": {
   "display_name": "Python 3",
   "language": "python",
   "name": "python3"
  },
  "language_info": {
   "codemirror_mode": {
    "name": "ipython",
    "version": 3
   },
   "file_extension": ".py",
   "mimetype": "text/x-python",
   "name": "python",
   "nbconvert_exporter": "python",
   "pygments_lexer": "ipython3",
   "version": "3.11.0"
  }
 },
 "nbformat": 4,
 "nbformat_minor": 2
}
