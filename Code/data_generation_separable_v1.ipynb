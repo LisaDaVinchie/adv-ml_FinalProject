{
 "cells": [
  {
   "cell_type": "code",
   "execution_count": 69,
   "metadata": {},
   "outputs": [],
   "source": [
    "import numpy as np"
   ]
  },
  {
   "cell_type": "code",
   "execution_count": 70,
   "metadata": {},
   "outputs": [],
   "source": [
    "def generate_hermitian_product_states(size, n_matrices):\n",
    "    \"\"\"Generates a list of random Hermitian product states of the given dimension\n",
    "    Product states are hermitian matrices with trace 1.\n",
    "    Input:\n",
    "        size: size of the matrices\n",
    "        n_matrices: number of matrices to generate\n",
    "    Output:\n",
    "        product_states: 3D numpy array of product states\n",
    "    \"\"\"\n",
    "\n",
    "    product_states = []\n",
    "    for _ in range(n_matrices):\n",
    "        real_part = np.random.rand(size, size)\n",
    "        imag_part = np.random.rand(size, size)\n",
    "        product_state = real_part + 1j * imag_part\n",
    "        product_state = np.matmul(product_state, product_state.conj().T)\n",
    "        product_state /= np.trace(product_state)\n",
    "        product_states.append(product_state)\n",
    "\n",
    "    return np.array(product_states)\n",
    "\n",
    "def generate_coefficients(n):\n",
    "    \"\"\"\n",
    "    Generates a list of n random coefficients that sum to 1\n",
    "    Input:\n",
    "        n: number of coefficients to generate\n",
    "    Output:\n",
    "        coefficients: numpy array of n coefficients\n",
    "    \"\"\"\n",
    "    rand_numbers = np.random.rand(n)\n",
    "    \n",
    "    return rand_numbers / np.sum(rand_numbers)"
   ]
  },
  {
   "cell_type": "code",
   "execution_count": 71,
   "metadata": {},
   "outputs": [
    {
     "data": {
      "text/plain": [
       "(array([[[0.49923587+0.j        , 0.37112615-0.14481721j],\n",
       "         [0.37112615+0.14481721j, 0.50076413+0.j        ]],\n",
       " \n",
       "        [[0.56546905+0.j        , 0.4423661 +0.06299869j],\n",
       "         [0.4423661 -0.06299869j, 0.43453095+0.j        ]],\n",
       " \n",
       "        [[0.68523349+0.j        , 0.30725048-0.27422183j],\n",
       "         [0.30725048+0.27422183j, 0.31476651+0.j        ]],\n",
       " \n",
       "        [[0.42481793+0.j        , 0.27158708+0.00645563j],\n",
       "         [0.27158708-0.00645563j, 0.57518207+0.j        ]],\n",
       " \n",
       "        [[0.40280447+0.j        , 0.35502517-0.08917839j],\n",
       "         [0.35502517+0.08917839j, 0.59719553+0.j        ]]]),\n",
       " array([0.1571841 , 0.19947279, 0.06616257, 0.30845191, 0.26872863]))"
      ]
     },
     "execution_count": 71,
     "metadata": {},
     "output_type": "execute_result"
    }
   ],
   "source": [
    "dimensions = 2\n",
    "n_matrices = 5\n",
    "product_states = generate_hermitian_product_states(dimensions, n_matrices)\n",
    "\n",
    "coeffs = generate_coefficients(len(product_states))\n",
    "\n",
    "product_states, coeffs"
   ]
  },
  {
   "cell_type": "code",
   "execution_count": 72,
   "metadata": {},
   "outputs": [],
   "source": [
    "sep_state = np.zeros(dimensions ** n_matrices, dtype=np.complex128)\n",
    "for j in range(dimensions):\n",
    "    result = product_states[0][:, j]\n",
    "\n",
    "    for i in range(1, n_matrices):\n",
    "        result = np.kron(result, product_states[i][:, j])\n",
    "    result *= coeffs[j]\n",
    "    \n",
    "    sep_state += result"
   ]
  },
  {
   "cell_type": "code",
   "execution_count": 73,
   "metadata": {},
   "outputs": [],
   "source": [
    "def generate_separable_states(dimensions, n_matrices, n_states):\n",
    "    \"\"\"Generates a list of random separable states of the given dimension\n",
    "    Input:\n",
    "        dimensions: size of the matrices\n",
    "        n_matrices: number of matrices used to generate the states\n",
    "        n_states: number of separable states to generate\n",
    "    Output:\n",
    "        separable_states: 3D numpy array of separable states, of size n_states x dimensions^n_matrices\n",
    "    \"\"\"\n",
    "    separable_states = []\n",
    "    \n",
    "    for _ in range(n_states):\n",
    "        product_states = generate_hermitian_product_states(dimensions, n_matrices)\n",
    "\n",
    "        coeffs = generate_coefficients(len(product_states))\n",
    "\n",
    "        sep_state = np.zeros(dimensions ** n_matrices, dtype=np.complex128)\n",
    "        \n",
    "        for j in range(dimensions):\n",
    "            result = product_states[0][:, j]\n",
    "\n",
    "            for i in range(1, n_matrices):\n",
    "                result = np.kron(result, product_states[i][:, j])\n",
    "            result *= coeffs[j]\n",
    "            \n",
    "            sep_state += result\n",
    "            \n",
    "        separable_states.append(sep_state)\n",
    "    \n",
    "    return np.array(separable_states)"
   ]
  },
  {
   "cell_type": "code",
   "execution_count": 74,
   "metadata": {},
   "outputs": [
    {
     "data": {
      "text/plain": [
       "(10, 32)"
      ]
     },
     "execution_count": 74,
     "metadata": {},
     "output_type": "execute_result"
    }
   ],
   "source": [
    "sep_states = generate_separable_states(dimensions, n_matrices, 10)\n",
    "\n",
    "sep_states.shape"
   ]
  }
 ],
 "metadata": {
  "kernelspec": {
   "display_name": "Python 3",
   "language": "python",
   "name": "python3"
  },
  "language_info": {
   "codemirror_mode": {
    "name": "ipython",
    "version": 3
   },
   "file_extension": ".py",
   "mimetype": "text/x-python",
   "name": "python",
   "nbconvert_exporter": "python",
   "pygments_lexer": "ipython3",
   "version": "3.11.0"
  }
 },
 "nbformat": 4,
 "nbformat_minor": 2
}
