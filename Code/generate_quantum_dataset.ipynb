{
 "cells": [
  {
   "cell_type": "markdown",
   "metadata": {},
   "source": [
    "# Generation of a quantum dataset"
   ]
  },
  {
   "cell_type": "code",
   "execution_count": 220,
   "metadata": {},
   "outputs": [],
   "source": [
    "import numpy as np\n",
    "import torch as th\n",
    "import os\n",
    "from scipy.linalg import eigvals"
   ]
  },
  {
   "cell_type": "code",
   "execution_count": 221,
   "metadata": {},
   "outputs": [],
   "source": [
    "def gram_schmidt(vectors):\n",
    "    # Convert the input list of vectors to a NumPy array\n",
    "    vectors = np.array(vectors, dtype=complex)\n",
    "    \n",
    "    # Get the number of vectors and their dimensionality\n",
    "    num_vectors, vector_dim = vectors.shape\n",
    "    \n",
    "    # Create an array to store the orthogonalized vectors\n",
    "    orthogonalized_vectors = np.zeros((num_vectors, vector_dim), dtype=complex)\n",
    "    \n",
    "    for i in range(num_vectors):\n",
    "        # Orthogonalize the current vector with respect to the previous ones\n",
    "        orthogonalized_vectors[i] = vectors[i]\n",
    "        for j in range(i):\n",
    "            orthogonalized_vectors[i] -= np.dot(vectors[i], orthogonalized_vectors[j]) / np.dot(orthogonalized_vectors[j], orthogonalized_vectors[j]) * orthogonalized_vectors[j]\n",
    "        \n",
    "        # Normalize the orthogonalized vector\n",
    "        orthogonalized_vectors[i] /= np.linalg.norm(orthogonalized_vectors[i])\n",
    "    \n",
    "    return orthogonalized_vectors\n",
    "\n",
    "def generate_orthogonal_vectors(n, dim):\n",
    "    # Generate N random vectors\n",
    "    random_vectors = [np.random.rand(dim) for _ in range(n)]\n",
    "\n",
    "    # Gram-Schmidt orthogonalization\n",
    "    orthogonalized_vectors = gram_schmidt(random_vectors)\n",
    "\n",
    "    return orthogonalized_vectors\n",
    "\n",
    "\n",
    "# def generate_orthogonal_vectors(n, dim):\n",
    "#     # Generate N random vectors\n",
    "#     random_vectors = [np.random.rand(dim) + 1j * np.random.rand(dim) for _ in range(n)]\n",
    "\n",
    "#     # Gram-Schmidt orthogonalization\n",
    "#     orthogonalized_vectors = gram_schmidt(random_vectors)\n",
    "\n",
    "#     return orthogonalized_vectors"
   ]
  },
  {
   "cell_type": "code",
   "execution_count": 222,
   "metadata": {},
   "outputs": [],
   "source": [
    "def generate_density_matrices(orthogonal_vectors):\n",
    "    N = len(orthogonal_vectors)\n",
    "    density_matrix = []\n",
    "    for i in range(N):\n",
    "        density_matrix.append(np.outer(orthogonal_vectors[i], orthogonal_vectors[i]))\n",
    "        \n",
    "    # pose trace = 1\n",
    "    return np.array(density_matrix)"
   ]
  },
  {
   "cell_type": "code",
   "execution_count": 223,
   "metadata": {},
   "outputs": [],
   "source": [
    "def generate_coefficients(N):\n",
    "    coefficients = np.random.rand(N)\n",
    "    coefficients /= np.sum(coefficients)\n",
    "    return coefficients"
   ]
  },
  {
   "cell_type": "code",
   "execution_count": 224,
   "metadata": {},
   "outputs": [],
   "source": [
    "def generate_separable_states(n_states, N, dim):\n",
    "    \"\"\"Generate a separable state of 2 subsystems with N basis, each of dimension dim.\n",
    "    output: a list of n_states matrices of dimension N**2 x N**2\"\"\"\n",
    "    \n",
    "    states = []\n",
    "    for i in range(n_states):\n",
    "        orthogonal_vectorsA = generate_orthogonal_vectors(N, dim)\n",
    "        orthogonal_vectorsB = generate_orthogonal_vectors(N, dim)\n",
    "        \n",
    "        density_matrixA = generate_density_matrices(orthogonal_vectorsA)\n",
    "        density_matrixB = generate_density_matrices(orthogonal_vectorsB)\n",
    "        coefficients = generate_coefficients(N)\n",
    "        result = 0\n",
    "        for i in range(N):\n",
    "            result += coefficients[i] * np.kron(density_matrixA[i], density_matrixB[i])\n",
    "        states.append(result)\n",
    "    \n",
    "    return np.array(states)"
   ]
  },
  {
   "cell_type": "code",
   "execution_count": 228,
   "metadata": {},
   "outputs": [],
   "source": [
    "def is_entangled(rho):\n",
    "    # Check if the density matrix is 4x4\n",
    "    if rho.shape != (4, 4):\n",
    "        raise ValueError(\"The input matrix should be a 4x4 density matrix for a two-qubit system.\")\n",
    "    \n",
    "    # Calculate the partial transpose of the density matrix\n",
    "    rho_T_B = np.kron(np.eye(2), np.array([[1, 0], [0, -1]])) @ np.conjugate(np.transpose(rho)) @ np.kron(np.eye(2), np.array([[1, 0], [0, -1]]))\n",
    "    \n",
    "    # Check if any eigenvalue of the partial transpose is negative\n",
    "    eigenvalues = eigvals(rho_T_B)\n",
    "    \n",
    "    return any(eig < 0 for eig in eigenvalues)"
   ]
  },
  {
   "cell_type": "code",
   "execution_count": 237,
   "metadata": {},
   "outputs": [
    {
     "name": "stdout",
     "output_type": "stream",
     "text": [
      "False False\n",
      "True True\n",
      "True True\n",
      "True True\n",
      "False False\n",
      "True True\n",
      "True True\n",
      "True True\n",
      "False False\n",
      "False False\n"
     ]
    }
   ],
   "source": [
    "sep_states = generate_separable_states(n_states = 10, N = 2, dim = 2)\n",
    "\n",
    "for i in range(len(sep_states)):\n",
    "    print(any(eigvals(sep_states[i]) < 0), is_entangled(sep_states[i]))"
   ]
  },
  {
   "cell_type": "code",
   "execution_count": 214,
   "metadata": {},
   "outputs": [
    {
     "name": "stdout",
     "output_type": "stream",
     "text": [
      "Separable State:\n",
      "[[0.3+0.j 0. +0.j 0. +0.j 0. +0.j]\n",
      " [0. +0.j 0. +0.j 0. +0.j 0. +0.j]\n",
      " [0. +0.j 0. +0.j 0. +0.j 0. +0.j]\n",
      " [0. +0.j 0. +0.j 0. +0.j 0.7+0.j]]\n",
      "[0.3+0.j 0. +0.j 0. +0.j 0.7+0.j]\n"
     ]
    },
    {
     "data": {
      "text/plain": [
       "False"
      ]
     },
     "execution_count": 214,
     "metadata": {},
     "output_type": "execute_result"
    }
   ],
   "source": [
    "def generate_separable_state(probabilities, states_A, states_B):\n",
    "    # Check if the input is valid\n",
    "    if len(probabilities) != len(states_A) or len(probabilities) != len(states_B):\n",
    "        raise ValueError(\"Input lists should have the same length.\")\n",
    "    if not np.isclose(np.sum(probabilities), 1.0):\n",
    "        raise ValueError(\"Probabilities should sum to 1.\")\n",
    "\n",
    "    # Number of terms in the mixture\n",
    "    num_terms = len(probabilities)\n",
    "\n",
    "    # Generate the separable state\n",
    "    separable_state = np.zeros((4, 4), dtype=complex)\n",
    "    for i in range(num_terms):\n",
    "        separable_state += probabilities[i] * np.kron(states_A[i], states_B[i])\n",
    "\n",
    "    return separable_state\n",
    "\n",
    "# Example usage\n",
    "# Define probabilities and dimensionality\n",
    "probabilities = [0.3, 0.7]\n",
    "state_A_1 = np.array([[1, 0], [0, 0]])\n",
    "state_A_2 = np.array([[0, 0], [0, 1]])\n",
    "state_B_1 = np.array([[1, 0], [0, 0]])\n",
    "state_B_2 = np.array([[0, 0], [0, 1]])\n",
    "\n",
    "# Generate the separable state\n",
    "separable_state = generate_separable_state(probabilities, [state_A_1, state_A_2], [state_B_1, state_B_2])\n",
    "\n",
    "\n",
    "print(\"Separable State:\")\n",
    "print(separable_state)\n",
    "\n",
    "is_entangled(separable_state)\n"
   ]
  },
  {
   "cell_type": "code",
   "execution_count": 211,
   "metadata": {},
   "outputs": [
    {
     "name": "stdout",
     "output_type": "stream",
     "text": [
      "[-7.96846793e-01-4.86079875e-01j  6.53675262e-02-1.24939630e-03j\n",
      "  6.97421253e-18-8.82956992e-18j -3.65477402e-17+1.05709020e-17j]\n",
      "True\n",
      "[ 1.96995658e-01+4.60100714e-01j  2.78720608e-17-4.89754550e-18j\n",
      " -1.03288643e-01+1.83457074e-01j -3.41760262e-17-2.62977488e-17j]\n",
      "True\n",
      "[-2.94434923e-01+2.46392074e-01j  3.37061608e-01-4.95069278e-02j\n",
      " -2.23537955e-16-9.09810252e-17j -1.97743868e-17+7.85839519e-17j]\n",
      "True\n",
      "[-7.50052261e-01+6.09030867e-01j -1.51968499e-02-2.63197147e-02j\n",
      "  4.84299658e-19-1.82266055e-17j -2.58847238e-17+3.87976027e-18j]\n",
      "True\n",
      "[-3.80664876e-01+2.33054691e-01j -6.04200477e-02-3.24472009e-01j\n",
      "  5.38380981e-17+1.54594865e-18j  1.24476001e-18+1.08143464e-17j]\n",
      "True\n",
      "[-4.23863765e-01+4.83969195e-01j -2.51075553e-01+8.05267314e-02j\n",
      "  2.12287625e-17-3.52586729e-17j  5.29674108e-17-6.87076116e-17j]\n",
      "True\n",
      "[ 2.76105658e-01-3.52391996e-01j -3.74880566e-01-5.93311698e-03j\n",
      " -2.61030163e-17-1.15001657e-16j -1.09018980e-17+2.96140037e-17j]\n",
      "True\n",
      "[ 4.19340869e-01-3.02194262e-01j  2.24926002e-17+1.34329529e-17j\n",
      " -1.09253230e-01+2.27142742e-01j  1.63331494e-18+3.02214710e-17j]\n",
      "True\n",
      "[-3.75513900e-01-5.34147417e-01j  4.64503669e-17-9.67097458e-17j\n",
      " -2.37014069e-01-1.18017968e-01j -6.88458344e-18-2.18414036e-17j]\n",
      "True\n",
      "[ 1.86252895e-01-5.15415062e-01j -6.64985007e-02+2.92564361e-01j\n",
      " -1.97628641e-17-1.74306009e-18j  3.96459781e-17-5.88694018e-17j]\n",
      "True\n"
     ]
    }
   ],
   "source": [
    "for i in range(10):\n",
    "    print(is_entangled(sep_states[i]))"
   ]
  },
  {
   "cell_type": "code",
   "execution_count": 239,
   "metadata": {},
   "outputs": [],
   "source": [
    "\n",
    "def generate_hermitian_product_states(size, n_matrices):\n",
    "    \"\"\"Generates a list of random Hermitian product states\n",
    "    of the given dimension\n",
    "    Product states are hermitian matrices with trace 1.\n",
    "    Input:\n",
    "        size: size of the matrices\n",
    "        n_matrices: number of matrices to generate\n",
    "    Output:\n",
    "        product_states: 3D numpy array of product states\n",
    "    \"\"\"\n",
    "\n",
    "    product_states = []\n",
    "    for _ in range(n_matrices):\n",
    "        real_part = np.random.rand(size, size)\n",
    "        imag_part = np.random.rand(size, size)\n",
    "        product_state = real_part + 1j * imag_part\n",
    "        product_state = np.matmul(product_state, product_state.conj().T)\n",
    "        product_state /= np.trace(product_state)\n",
    "        product_states.append(product_state)\n",
    "\n",
    "    return np.array(product_states)"
   ]
  },
  {
   "cell_type": "code",
   "execution_count": 313,
   "metadata": {},
   "outputs": [
    {
     "data": {
      "text/plain": [
       "False"
      ]
     },
     "execution_count": 313,
     "metadata": {},
     "output_type": "execute_result"
    }
   ],
   "source": [
    "rhoA = generate_hermitian_product_states(2, 10)\n",
    "rhoB = generate_hermitian_product_states(2, 10)\n",
    "\n",
    "coeffs = np.random.rand(10)\n",
    "\n",
    "sep_state = 0\n",
    "partial_transpose = 0\n",
    "\n",
    "for i in range(10):\n",
    "    sep_state += coeffs[i] * np.kron(rhoA[i], rhoB[i])\n",
    "    partial_transpose += coeffs[i] * np.kron(rhoA[i], np.transpose(rhoB[i]))\n",
    "    \n",
    "    \n",
    "is_entangled(sep_state)"
   ]
  },
  {
   "cell_type": "code",
   "execution_count": 314,
   "metadata": {},
   "outputs": [
    {
     "data": {
      "text/plain": [
       "array([[1.09048825+0.j        , 0.6940669 +0.25648125j,\n",
       "        0.85674978-0.24909034j, 0.66221495-0.04080878j],\n",
       "       [0.6940669 -0.25648125j, 0.81636177+0.j        ,\n",
       "        0.40634123-0.33257812j, 0.56688773-0.30154527j],\n",
       "       [0.85674978+0.24909034j, 0.40634123+0.33257812j,\n",
       "        1.27085409+0.j        , 0.8360074 +0.1841741j ],\n",
       "       [0.66221495+0.04080878j, 0.56688773+0.30154527j,\n",
       "        0.8360074 -0.1841741j , 0.87439025+0.j        ]])"
      ]
     },
     "execution_count": 314,
     "metadata": {},
     "output_type": "execute_result"
    }
   ],
   "source": [
    "sep_state"
   ]
  },
  {
   "cell_type": "code",
   "execution_count": 315,
   "metadata": {},
   "outputs": [
    {
     "data": {
      "text/plain": [
       "array([[1.09048825+0.j        , 0.6940669 -0.25648125j,\n",
       "        0.85674978-0.24909034j, 0.40634123-0.33257812j],\n",
       "       [0.6940669 +0.25648125j, 0.81636177+0.j        ,\n",
       "        0.66221495-0.04080878j, 0.56688773-0.30154527j],\n",
       "       [0.85674978+0.24909034j, 0.66221495+0.04080878j,\n",
       "        1.27085409+0.j        , 0.8360074 -0.1841741j ],\n",
       "       [0.40634123+0.33257812j, 0.56688773+0.30154527j,\n",
       "        0.8360074 +0.1841741j , 0.87439025+0.j        ]])"
      ]
     },
     "execution_count": 315,
     "metadata": {},
     "output_type": "execute_result"
    }
   ],
   "source": [
    "partial_transpose"
   ]
  },
  {
   "cell_type": "code",
   "execution_count": 316,
   "metadata": {},
   "outputs": [],
   "source": [
    "def calculate_partial_transpose(rho):\n",
    "    # Check if the density matrix is 4x4\n",
    "    if rho.shape != (4, 4):\n",
    "        raise ValueError(\"The input matrix should be a 4x4 density matrix for a two-qubit system.\")\n",
    "    \n",
    "    # Calculate the partial transpose of the density matrix\n",
    "    rho_ur = np.transpose(rho[0:2, 2:4])\n",
    "    rho_ll = np.transpose(rho[2:4, 0:2])\n",
    "\n",
    "    rho, rho_ur, rho_ll\n",
    "\n",
    "    rho_TB_u = np.concatenate([rho[0:2, 0:2], rho_ur], axis = 1)\n",
    "    rho_TB_l = np.concatenate([rho_ll, rho[2:4, 2:4]], axis = 1)\n",
    "\n",
    "    rho_T_B = np.concatenate([rho_TB_u, rho_TB_l], axis = 0)\n",
    "    \n",
    "    return rho_T_B"
   ]
  },
  {
   "cell_type": "code",
   "execution_count": 317,
   "metadata": {},
   "outputs": [
    {
     "data": {
      "text/plain": [
       "array([[1.09048825+0.j        , 0.6940669 +0.25648125j,\n",
       "        0.85674978-0.24909034j, 0.40634123-0.33257812j],\n",
       "       [0.6940669 -0.25648125j, 0.81636177+0.j        ,\n",
       "        0.66221495-0.04080878j, 0.56688773-0.30154527j],\n",
       "       [0.85674978+0.24909034j, 0.66221495+0.04080878j,\n",
       "        1.27085409+0.j        , 0.8360074 +0.1841741j ],\n",
       "       [0.40634123+0.33257812j, 0.56688773+0.30154527j,\n",
       "        0.8360074 -0.1841741j , 0.87439025+0.j        ]])"
      ]
     },
     "execution_count": 317,
     "metadata": {},
     "output_type": "execute_result"
    }
   ],
   "source": [
    "rho_tb = calculate_partial_transpose(sep_state)\n",
    "\n",
    "rho_tb"
   ]
  },
  {
   "cell_type": "code",
   "execution_count": 321,
   "metadata": {},
   "outputs": [
    {
     "data": {
      "text/plain": [
       "array([[ 1.09048825+0.j        , -0.6940669 +0.25648125j,\n",
       "         0.85674978+0.24909034j, -0.66221495-0.04080878j],\n",
       "       [-0.6940669 -0.25648125j,  0.81636177+0.j        ,\n",
       "        -0.40634123-0.33257812j,  0.56688773+0.30154527j],\n",
       "       [ 0.85674978-0.24909034j, -0.40634123+0.33257812j,\n",
       "         1.27085409+0.j        , -0.8360074 +0.1841741j ],\n",
       "       [-0.66221495+0.04080878j,  0.56688773-0.30154527j,\n",
       "        -0.8360074 -0.1841741j ,  0.87439025+0.j        ]])"
      ]
     },
     "execution_count": 321,
     "metadata": {},
     "output_type": "execute_result"
    }
   ],
   "source": [
    "mat1 = np.array([[1, 0], [0, -1]])\n",
    "identity_mat = np.eye(2)\n",
    "transpose_B = np.kron(identity_mat, mat1)\n",
    "trans_mat = np.transpose(sep_state)\n",
    "rho_T_B = transpose_B @ trans_mat @ transpose_B\n",
    "\n",
    "rho_T_B"
   ]
  },
  {
   "cell_type": "code",
   "execution_count": 324,
   "metadata": {},
   "outputs": [
    {
     "data": {
      "text/plain": [
       "(array([[ 1,  2,  3,  4],\n",
       "        [ 5,  6,  7,  8],\n",
       "        [ 9, 10, 11, 12],\n",
       "        [13, 14, 15, 16]]),\n",
       " array([[  1.,  -5.,   9., -13.],\n",
       "        [ -2.,   6., -10.,  14.],\n",
       "        [  3.,  -7.,  11., -15.],\n",
       "        [ -4.,   8., -12.,  16.]]))"
      ]
     },
     "execution_count": 324,
     "metadata": {},
     "output_type": "execute_result"
    }
   ],
   "source": [
    "rho = np.array(([1, 2, 3, 4], [5, 6, 7, 8], [9, 10, 11 ,12], [13, 14, 15, 16]))\n",
    "\n",
    "rho, transpose_B @ rho.T @ transpose_B"
   ]
  },
  {
   "cell_type": "code",
   "execution_count": 319,
   "metadata": {},
   "outputs": [
    {
     "data": {
      "text/plain": [
       "False"
      ]
     },
     "execution_count": 319,
     "metadata": {},
     "output_type": "execute_result"
    }
   ],
   "source": [
    "rand_state = np.random.rand(4, 4)\n",
    "\n",
    "is_entangled(rand_state)\n",
    "\n",
    "# sep_state = 0\n",
    "\n",
    "# for i in range(10):\n",
    "#     sep_state += coeffs[i] * np.kron(rhoA[i], rhoB[i])\n",
    "    \n",
    "# is_entangled(sep_state)"
   ]
  }
 ],
 "metadata": {
  "kernelspec": {
   "display_name": "Python 3",
   "language": "python",
   "name": "python3"
  },
  "language_info": {
   "codemirror_mode": {
    "name": "ipython",
    "version": 3
   },
   "file_extension": ".py",
   "mimetype": "text/x-python",
   "name": "python",
   "nbconvert_exporter": "python",
   "pygments_lexer": "ipython3",
   "version": "3.11.0"
  }
 },
 "nbformat": 4,
 "nbformat_minor": 2
}
