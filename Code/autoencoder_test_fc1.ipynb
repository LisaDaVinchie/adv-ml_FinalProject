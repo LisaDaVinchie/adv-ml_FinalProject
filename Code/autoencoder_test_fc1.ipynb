{
 "cells": [
  {
   "cell_type": "code",
   "execution_count": 23,
   "metadata": {},
   "outputs": [],
   "source": [
    "# Import libraries\n",
    "import torch as th\n",
    "import torch.nn as nn\n",
    "import torch.nn.functional as F\n",
    "from torch.utils.data import DataLoader\n",
    "import torch.optim as optim\n",
    "from tqdm.auto import trange\n",
    "import numpy as np\n",
    "import matplotlib.pyplot as plt\n",
    "import generate_quantum_dataset as gqd\n",
    "import pandas as pd\n",
    "from sklearn.preprocessing import StandardScaler"
   ]
  },
  {
   "cell_type": "code",
   "execution_count": 24,
   "metadata": {},
   "outputs": [],
   "source": [
    "# Import datasets\n",
    "\n",
    "# sep_data = th.load('../datasets/sep_states.pt')\n",
    "\n",
    "# ent_data = th.load('../datasets/ent_states.pt')\n",
    "\n",
    "N_states = 10000\n",
    "\n",
    "# Generate N_states separable and entangled states\n",
    "sep_data = th.tensor(gqd.generate_separable_states(10, N_states), dtype=th.complex64)\n",
    "ent_data = th.tensor(gqd.generate_entangled_states(N_states), dtype=th.complex64)\n",
    "\n",
    "th.save(sep_data, '../datasets/sep_states.pt')\n",
    "th.save(ent_data, '../datasets/ent_states.pt')"
   ]
  },
  {
   "cell_type": "code",
   "execution_count": 25,
   "metadata": {},
   "outputs": [
    {
     "name": "stdout",
     "output_type": "stream",
     "text": [
      "Any entangled data in the separable dataset?:  False\n",
      "Are all the data in the entangled dataset entangled?:  True\n"
     ]
    }
   ],
   "source": [
    "# check if they are truly separable and entangled\n",
    "print(\"Any entangled data in the separable dataset?: \", any(gqd.is_entangled(sep_data[i].numpy()) for i in range(N_states)))\n",
    "print(\"Are all the data in the entangled dataset entangled?: \", all(gqd.is_entangled(ent_data[i].numpy()) for i in range(N_states)))"
   ]
  },
  {
   "cell_type": "code",
   "execution_count": 26,
   "metadata": {},
   "outputs": [
    {
     "data": {
      "text/plain": [
       "torch.Size([10000, 32])"
      ]
     },
     "execution_count": 26,
     "metadata": {},
     "output_type": "execute_result"
    }
   ],
   "source": [
    "data_len = len(sep_data)\n",
    "full_data_sep = th.empty((data_len, 32))\n",
    "full_data_ent = th.empty((data_len, 32))\n",
    "\n",
    "for i in range(data_len):\n",
    "    full_data_sep[i, :] = th.cat((sep_data[i].flatten(start_dim=0).real, sep_data[i].flatten(start_dim=0).imag), dim=0)\n",
    "    full_data_ent[i, :] = th.cat((ent_data[i].flatten(start_dim=0).real, ent_data[i].flatten(start_dim=0).imag), dim=0)\n",
    "    \n",
    "full_data_ent.shape"
   ]
  },
  {
   "cell_type": "code",
   "execution_count": 27,
   "metadata": {},
   "outputs": [],
   "source": [
    "# scaler = StandardScaler()\n",
    "# full_data_sep_norm = scaler.fit_transform(full_data_sep)\n",
    "# full_data_ent_norm = scaler.fit_transform(full_data_ent)\n",
    "\n"
   ]
  },
  {
   "cell_type": "code",
   "execution_count": 28,
   "metadata": {},
   "outputs": [
    {
     "name": "stderr",
     "output_type": "stream",
     "text": [
      "/var/folders/tg/s7bvn5_n5ngb3nrzxqsyqbyw0000gn/T/ipykernel_92512/1590196366.py:7: UserWarning: To copy construct from a tensor, it is recommended to use sourceTensor.clone().detach() or sourceTensor.clone().detach().requires_grad_(True), rather than torch.tensor(sourceTensor).\n",
      "  sep_train_loader = DataLoader(th.tensor(full_data_sep, dtype=th.float32), batch_size=BATCH_SIZE, shuffle=True)\n",
      "/var/folders/tg/s7bvn5_n5ngb3nrzxqsyqbyw0000gn/T/ipykernel_92512/1590196366.py:8: UserWarning: To copy construct from a tensor, it is recommended to use sourceTensor.clone().detach() or sourceTensor.clone().detach().requires_grad_(True), rather than torch.tensor(sourceTensor).\n",
      "  ent_train_loader = DataLoader(th.tensor(full_data_ent, dtype=th.float32), batch_size=BATCH_SIZE, shuffle=True)\n"
     ]
    }
   ],
   "source": [
    "BATCH_SIZE = 64\n",
    "\n",
    "# create dataloaders\n",
    "# sep_train_loader = DataLoader(th.tensor(full_data_sep_norm, dtype=th.float32), batch_size=BATCH_SIZE, shuffle=True)\n",
    "# ent_train_loader = DataLoader(th.tensor(full_data_ent_norm, dtype=th.float32), batch_size=BATCH_SIZE, shuffle=True)\n",
    "\n",
    "sep_train_loader = DataLoader(th.tensor(full_data_sep, dtype=th.float32), batch_size=BATCH_SIZE, shuffle=True)\n",
    "ent_train_loader = DataLoader(th.tensor(full_data_ent, dtype=th.float32), batch_size=BATCH_SIZE, shuffle=True)"
   ]
  },
  {
   "cell_type": "code",
   "execution_count": 29,
   "metadata": {},
   "outputs": [
    {
     "name": "stdout",
     "output_type": "stream",
     "text": [
      "Any entangled data in the separable dataset?:  False\n",
      "Are all the data in the entangled dataset entangled?:  True\n"
     ]
    },
    {
     "name": "stderr",
     "output_type": "stream",
     "text": [
      "/var/folders/tg/s7bvn5_n5ngb3nrzxqsyqbyw0000gn/T/ipykernel_92512/3445670150.py:27: UserWarning: To copy construct from a tensor, it is recommended to use sourceTensor.clone().detach() or sourceTensor.clone().detach().requires_grad_(True), rather than torch.tensor(sourceTensor).\n",
      "  sep_test_loader = DataLoader(th.tensor(full_data_sep, dtype=th.float32), batch_size=BATCH_SIZE, shuffle=True)\n",
      "/var/folders/tg/s7bvn5_n5ngb3nrzxqsyqbyw0000gn/T/ipykernel_92512/3445670150.py:28: UserWarning: To copy construct from a tensor, it is recommended to use sourceTensor.clone().detach() or sourceTensor.clone().detach().requires_grad_(True), rather than torch.tensor(sourceTensor).\n",
      "  ent_test_loader = DataLoader(th.tensor(full_data_ent, dtype = th.float32), batch_size=BATCH_SIZE, shuffle=True)\n"
     ]
    }
   ],
   "source": [
    "# do the same to create two test sets\n",
    "N_states = 3000\n",
    "\n",
    "sep_data = th.tensor(gqd.generate_separable_states(10, N_states), dtype=th.complex64)\n",
    "ent_data = th.tensor(gqd.generate_entangled_states(N_states), dtype=th.complex64)\n",
    "\n",
    "print(\"Any entangled data in the separable dataset?: \", any(gqd.is_entangled(sep_data[i].numpy()) for i in range(N_states)))\n",
    "print(\"Are all the data in the entangled dataset entangled?: \", all(gqd.is_entangled(ent_data[i].numpy()) for i in range(N_states)))\n",
    "\n",
    "# sep_data_pair = th.stack((sep_data.flatten(start_dim=1).real, sep_data.flatten(start_dim=1).imag), dim = 1)\n",
    "# ent_data_pair = th.stack((ent_data.flatten(start_dim=1).real, ent_data.flatten(start_dim=1).imag), dim = 1)\n",
    "\n",
    "full_data_sep = th.empty((N_states, 32))\n",
    "full_data_ent = th.empty((N_states, 32))\n",
    "\n",
    "for i in range(N_states):\n",
    "    full_data_sep[i, :] = th.cat((sep_data[i].flatten(start_dim=0).real, sep_data[i].flatten(start_dim=0).imag), dim=0)\n",
    "    full_data_ent[i, :] = th.cat((ent_data[i].flatten(start_dim=0).real, ent_data[i].flatten(start_dim=0).imag), dim=0)\n",
    "    \n",
    "scaler = StandardScaler()\n",
    "full_data_sep_norm = scaler.fit_transform(full_data_sep)\n",
    "full_data_ent_norm = scaler.fit_transform(full_data_ent)\n",
    "\n",
    "# sep_test_loader = DataLoader(th.tensor(full_data_sep_norm, dtype=th.float32), batch_size=BATCH_SIZE, shuffle=True)\n",
    "# ent_test_loader = DataLoader(th.tensor(full_data_ent_norm, dtype = th.float32), batch_size=BATCH_SIZE, shuffle=True)\n",
    "\n",
    "sep_test_loader = DataLoader(th.tensor(full_data_sep, dtype=th.float32), batch_size=BATCH_SIZE, shuffle=True)\n",
    "ent_test_loader = DataLoader(th.tensor(full_data_ent, dtype = th.float32), batch_size=BATCH_SIZE, shuffle=True)"
   ]
  },
  {
   "cell_type": "code",
   "execution_count": 30,
   "metadata": {},
   "outputs": [],
   "source": [
    "# define the model\n",
    "\n",
    "class VAE_fc(nn.Module):\n",
    "    def __init__(self, input_size, hidden_size):\n",
    "        super(VAE_fc, self).__init__()\n",
    "        self.input_size = input_size\n",
    "        self.enc1 = nn.Linear(input_size, hidden_size[0])\n",
    "        self.enc2 = nn.Linear(hidden_size[0], hidden_size[1])\n",
    "        self.enc_mu = nn.Linear(hidden_size[1], hidden_size[2])\n",
    "        self.enc_logvar = nn.Linear(hidden_size[1], hidden_size[2])\n",
    "        \n",
    "        self.dec1 = nn.Linear(hidden_size[2], hidden_size[1])\n",
    "        self.dec2 = nn.Linear(hidden_size[1], hidden_size[0])\n",
    "        self.dec3 = nn.Linear(hidden_size[0], input_size)\n",
    "        \n",
    "        self.relu = nn.ReLU()\n",
    "    \n",
    "    def encoder(self, x):\n",
    "        x = self.relu(self.enc1(x))\n",
    "        x = self.relu(self.enc2(x))\n",
    "        mu = self.enc_mu(x)\n",
    "        logvar = self.enc_logvar(x)\n",
    "        return mu, logvar\n",
    "    \n",
    "    def reparametrize(self, mu, logvar):\n",
    "        std = th.exp(0.5*logvar)\n",
    "        eps = th.randn_like(std)\n",
    "        return mu + eps*std\n",
    "    \n",
    "    def decoder(self, z):\n",
    "        z = self.relu(self.dec1(z))\n",
    "        z = self.relu(self.dec2(z))\n",
    "        z = self.relu(self.dec3(z))\n",
    "        return z\n",
    "    \n",
    "    def forward(self, x):\n",
    "        mu, logvar = self.encoder(x)\n",
    "        z = self.reparametrize(mu, logvar)\n",
    "        decoded = self.decoder(z)\n",
    "        return decoded, z, mu, logvar"
   ]
  },
  {
   "cell_type": "code",
   "execution_count": 31,
   "metadata": {},
   "outputs": [
    {
     "name": "stdout",
     "output_type": "stream",
     "text": [
      "torch.Size([64, 32])\n",
      "torch.Size([64, 32]) torch.Size([64, 8]) torch.Size([64, 8]) torch.Size([64, 8])\n"
     ]
    }
   ],
   "source": [
    "# try the model\n",
    "\n",
    "model = VAE_fc(input_size=32, hidden_size=[32, 16, 8])\n",
    "\n",
    "for _, data in enumerate(sep_train_loader):\n",
    "    print(data.shape)\n",
    "    decoded, z, mu, logvar = model(data)\n",
    "    print(decoded.shape, z.shape, mu.shape, logvar.shape)\n",
    "    break"
   ]
  },
  {
   "cell_type": "code",
   "execution_count": 32,
   "metadata": {},
   "outputs": [],
   "source": [
    "# Define the loss function\n",
    "def loss_function(output, x, mu, logvar):\n",
    "    recon_loss = F.mse_loss(output, x, reduction='sum')\n",
    "    kl_loss = -0.5 * th.sum(1 + logvar - mu.pow(2) - logvar.exp())\n",
    "    return recon_loss + 0.5 * kl_loss"
   ]
  },
  {
   "cell_type": "code",
   "execution_count": 33,
   "metadata": {},
   "outputs": [],
   "source": [
    "def train_model(model, train_loader, optimizer, criterion, epochs):\n",
    "    \n",
    "    train_loss = []\n",
    "    for epoch in trange(epochs):\n",
    "        epoch_loss = 0.0\n",
    "        \n",
    "        for _, data in enumerate(train_loader):\n",
    "            optimizer.zero_grad()\n",
    "            output, _, mu, logvar = model(data)\n",
    "            loss = criterion(output, data, mu, logvar)\n",
    "            loss.backward()\n",
    "            optimizer.step()\n",
    "            epoch_loss += loss.item()\n",
    "            \n",
    "        epoch_loss /= len(train_loader.dataset)\n",
    "        train_loss.append(epoch_loss)\n",
    "        print(\"Epoch: {}, Loss: {}\".format(epoch, epoch_loss))\n",
    "\n",
    "    return model, train_loss"
   ]
  },
  {
   "cell_type": "code",
   "execution_count": 34,
   "metadata": {},
   "outputs": [],
   "source": [
    "# Define constant parameters\n",
    "HIDDEN_SIZE = [32, 16, 5]\n",
    "EPOCHS = 15\n",
    "LR = 0.001\n",
    "INPUT_SIZE = 32"
   ]
  },
  {
   "cell_type": "code",
   "execution_count": 35,
   "metadata": {},
   "outputs": [
    {
     "data": {
      "application/vnd.jupyter.widget-view+json": {
       "model_id": "39b254e29a5047388fdc91783aa47988",
       "version_major": 2,
       "version_minor": 0
      },
      "text/plain": [
       "  0%|          | 0/15 [00:00<?, ?it/s]"
      ]
     },
     "metadata": {},
     "output_type": "display_data"
    },
    {
     "name": "stdout",
     "output_type": "stream",
     "text": [
      "Epoch: 0, Loss: 0.18674551862478256\n",
      "Epoch: 1, Loss: 0.08215703065395355\n",
      "Epoch: 2, Loss: 0.07992003471851349\n",
      "Epoch: 3, Loss: 0.07939611854553223\n",
      "Epoch: 4, Loss: 0.07918876549005509\n",
      "Epoch: 5, Loss: 0.07906583173274993\n",
      "Epoch: 6, Loss: 0.07902289354801179\n",
      "Epoch: 7, Loss: 0.07898358438014984\n",
      "Epoch: 8, Loss: 0.07894874218702316\n",
      "Epoch: 9, Loss: 0.07894658150672913\n",
      "Epoch: 10, Loss: 0.07893677874803542\n",
      "Epoch: 11, Loss: 0.07891485786437988\n",
      "Epoch: 12, Loss: 0.07892363661527634\n",
      "Epoch: 13, Loss: 0.07896810318231583\n",
      "Epoch: 14, Loss: 0.07891139831542969\n"
     ]
    }
   ],
   "source": [
    "# Train separable VAE\n",
    "model = VAE_fc(input_size=INPUT_SIZE, hidden_size=HIDDEN_SIZE)\n",
    "optimizer = optim.Adam(model.parameters(), lr=LR)\n",
    "\n",
    "sep_trained_model, sep_train_loss = train_model(model, sep_train_loader, optimizer, loss_function, EPOCHS)"
   ]
  },
  {
   "cell_type": "code",
   "execution_count": 36,
   "metadata": {},
   "outputs": [
    {
     "data": {
      "application/vnd.jupyter.widget-view+json": {
       "model_id": "39a049fec0404a6099edc3b9cc91dc04",
       "version_major": 2,
       "version_minor": 0
      },
      "text/plain": [
       "  0%|          | 0/15 [00:00<?, ?it/s]"
      ]
     },
     "metadata": {},
     "output_type": "display_data"
    },
    {
     "name": "stdout",
     "output_type": "stream",
     "text": [
      "Epoch: 0, Loss: 1.9700645992279053\n",
      "Epoch: 1, Loss: 1.363541631126404\n",
      "Epoch: 2, Loss: 1.3461869161605835\n",
      "Epoch: 3, Loss: 1.3432214044570923\n",
      "Epoch: 4, Loss: 1.3399471794128417\n",
      "Epoch: 5, Loss: 1.3398733587265015\n",
      "Epoch: 6, Loss: 1.3389584964752197\n",
      "Epoch: 7, Loss: 1.3392171167373657\n",
      "Epoch: 8, Loss: 1.3385029766082763\n",
      "Epoch: 9, Loss: 1.3374430799484254\n",
      "Epoch: 10, Loss: 1.3375758367538453\n",
      "Epoch: 11, Loss: 1.337755694961548\n",
      "Epoch: 12, Loss: 1.3372692953109742\n",
      "Epoch: 13, Loss: 1.3370943809509277\n",
      "Epoch: 14, Loss: 1.3376900466918946\n"
     ]
    }
   ],
   "source": [
    "# Train entangled VAE\n",
    "model = VAE_fc(input_size=INPUT_SIZE, hidden_size=HIDDEN_SIZE)\n",
    "optimizer = optim.Adam(model.parameters(), lr=LR)\n",
    "\n",
    "ent_trained_model, ent_train_loss = train_model(model, ent_train_loader, optimizer, loss_function, EPOCHS)"
   ]
  },
  {
   "cell_type": "code",
   "execution_count": 37,
   "metadata": {},
   "outputs": [
    {
     "data": {
      "image/png": "[encoded data removed]",
      "text/plain": [
       "<Figure size 640x480 with 1 Axes>"
      ]
     },
     "metadata": {},
     "output_type": "display_data"
    }
   ],
   "source": [
    "plt.plot(sep_train_loss, label='Separable')\n",
    "plt.plot(ent_train_loss, label='Entangled')\n",
    "plt.plot(np.abs(np.array(sep_train_loss) - np.array(ent_train_loss)), label='Difference')\n",
    "plt.legend()\n",
    "plt.xlabel('Epochs')\n",
    "plt.ylabel('Loss')\n",
    "\n",
    "plt.savefig('../Figures/training_losses.png')"
   ]
  },
  {
   "cell_type": "code",
   "execution_count": 38,
   "metadata": {},
   "outputs": [
    {
     "data": {
      "text/html": [
       "<div>\n",
       "<style scoped>\n",
       "    .dataframe tbody tr th:only-of-type {\n",
       "        vertical-align: middle;\n",
       "    }\n",
       "\n",
       "    .dataframe tbody tr th {\n",
       "        vertical-align: top;\n",
       "    }\n",
       "\n",
       "    .dataframe thead th {\n",
       "        text-align: right;\n",
       "    }\n",
       "</style>\n",
       "<table border=\"1\" class=\"dataframe\">\n",
       "  <thead>\n",
       "    <tr style=\"text-align: right;\">\n",
       "      <th></th>\n",
       "      <th>entangled</th>\n",
       "      <th>separable</th>\n",
       "    </tr>\n",
       "  </thead>\n",
       "  <tbody>\n",
       "    <tr>\n",
       "      <th>0</th>\n",
       "      <td>1.336653</td>\n",
       "      <td>0.078921</td>\n",
       "    </tr>\n",
       "  </tbody>\n",
       "</table>\n",
       "</div>"
      ],
      "text/plain": [
       "   entangled  separable\n",
       "0   1.336653   0.078921"
      ]
     },
     "execution_count": 38,
     "metadata": {},
     "output_type": "execute_result"
    }
   ],
   "source": [
    "# Calculate the reconstruction loss on the training sets, withouth the KL divergence term\n",
    "\n",
    "loss_criterion = F.mse_loss\n",
    "\n",
    "reconstruction_loss = np.ndarray((1, 2))\n",
    "\n",
    "reconstruction_loss[:, 0] = loss_criterion(ent_trained_model(ent_train_loader.dataset)[0],\n",
    "                                     ent_train_loader.dataset,\n",
    "                                     reduction='sum').detach().numpy() / len(ent_train_loader.dataset)\n",
    "\n",
    "reconstruction_loss[:, 1] =loss_criterion(sep_trained_model(sep_train_loader.dataset)[0],\n",
    "                                     sep_train_loader.dataset,\n",
    "                                     reduction='sum').detach().numpy() / len(sep_train_loader.dataset)\n",
    "\n",
    "rec_loss = pd.DataFrame(reconstruction_loss, columns=['entangled', 'separable'])\n",
    "\n",
    "rec_loss"
   ]
  },
  {
   "cell_type": "code",
   "execution_count": 39,
   "metadata": {},
   "outputs": [
    {
     "data": {
      "text/plain": [
       "array([[1.33771997, 3.2259681 ],\n",
       "       [1.61711491, 0.07889077]])"
      ]
     },
     "execution_count": 39,
     "metadata": {},
     "output_type": "execute_result"
    }
   ],
   "source": [
    "# calculate the reconstruction loss on the test sets\n",
    "test_loss = np.ndarray((2, 2))\n",
    "\n",
    "for i, loader in enumerate([ent_test_loader, sep_test_loader]):\n",
    "    for j, model in enumerate([ent_trained_model, sep_trained_model]):\n",
    "        test_loss[i, j] = loss_criterion(model(loader.dataset)[0],\n",
    "                                         loader.dataset,\n",
    "                                         reduction='sum').detach().numpy() / len(loader.dataset)\n",
    "\n",
    "test_loss    "
   ]
  },
  {
   "cell_type": "code",
   "execution_count": 40,
   "metadata": {},
   "outputs": [
    {
     "data": {
      "text/html": [
       "<div>\n",
       "<style scoped>\n",
       "    .dataframe tbody tr th:only-of-type {\n",
       "        vertical-align: middle;\n",
       "    }\n",
       "\n",
       "    .dataframe tbody tr th {\n",
       "        vertical-align: top;\n",
       "    }\n",
       "\n",
       "    .dataframe thead th {\n",
       "        text-align: right;\n",
       "    }\n",
       "</style>\n",
       "<table border=\"1\" class=\"dataframe\">\n",
       "  <thead>\n",
       "    <tr style=\"text-align: right;\">\n",
       "      <th></th>\n",
       "      <th>ent_model</th>\n",
       "      <th>sep_model</th>\n",
       "    </tr>\n",
       "  </thead>\n",
       "  <tbody>\n",
       "    <tr>\n",
       "      <th>ent_set</th>\n",
       "      <td>1.337720</td>\n",
       "      <td>3.225968</td>\n",
       "    </tr>\n",
       "    <tr>\n",
       "      <th>sep_set</th>\n",
       "      <td>1.617115</td>\n",
       "      <td>0.078891</td>\n",
       "    </tr>\n",
       "  </tbody>\n",
       "</table>\n",
       "</div>"
      ],
      "text/plain": [
       "         ent_model  sep_model\n",
       "ent_set   1.337720   3.225968\n",
       "sep_set   1.617115   0.078891"
      ]
     },
     "execution_count": 40,
     "metadata": {},
     "output_type": "execute_result"
    }
   ],
   "source": [
    "test_losses = pd.DataFrame(test_loss, columns=['ent_model', 'sep_model'], index=['ent_set', 'sep_set'])\n",
    "\n",
    "test_losses"
   ]
  },
  {
   "cell_type": "code",
   "execution_count": 41,
   "metadata": {},
   "outputs": [
    {
     "data": {
      "image/png": "[encoded data removed]",
      "text/plain": [
       "<Figure size 640x480 with 1 Axes>"
      ]
     },
     "metadata": {},
     "output_type": "display_data"
    }
   ],
   "source": [
    "x_values = np.arange(1, EPOCHS + 1)\n",
    "x_len = len(x_values)\n",
    "plt.plot(x_values, rec_loss['entangled'][0] * np.ones(x_len) , label='entangled', color='red')\n",
    "plt.plot(x_values, rec_loss['separable'][0] * np.ones(x_len), label='separable', color='blue')\n",
    "plt.plot(x_values, test_losses[\"ent_model\"][\"ent_set\"] * np.ones(x_len), label='Ent model ent data', linestyle='--', color = 'orange')\n",
    "plt.plot(x_values, test_losses[\"ent_model\"][\"sep_set\"] * np.ones(x_len), label='Ent model sep data', linestyle='--', color = 'yellow')\n",
    "plt.plot(x_values, test_losses[\"sep_model\"][\"ent_set\"] * np.ones(x_len), label='Sep model ent data', linestyle='--', color = 'lightblue')\n",
    "plt.plot(x_values, test_losses[\"sep_model\"][\"sep_set\"] * np.ones(x_len), label='Sep model sep data', linestyle='--', color = 'purple')\n",
    "plt.legend()\n",
    "\n",
    "plt.savefig('../Figures/reconstruction_losses.png')"
   ]
  }
 ],
 "metadata": {
  "kernelspec": {
   "display_name": "Python 3",
   "language": "python",
   "name": "python3"
  },
  "language_info": {
   "codemirror_mode": {
    "name": "ipython",
    "version": 3
   },
   "file_extension": ".py",
   "mimetype": "text/x-python",
   "name": "python",
   "nbconvert_exporter": "python",
   "pygments_lexer": "ipython3",
   "version": "3.11.0"
  }
 },
 "nbformat": 4,
 "nbformat_minor": 2
}
