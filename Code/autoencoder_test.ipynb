{
 "cells": [
  {
   "cell_type": "code",
   "execution_count": 38,
   "metadata": {},
   "outputs": [],
   "source": [
    "# Import libraries\n",
    "import torch as th\n",
    "import torch.nn as nn\n",
    "from torch.utils.data import DataLoader\n",
    "from tqdm.auto import trange\n",
    "from sklearn.model_selection import train_test_split\n",
    "import numpy as np\n",
    "import matplotlib.pyplot as plt"
   ]
  },
  {
   "cell_type": "code",
   "execution_count": 39,
   "metadata": {},
   "outputs": [
    {
     "data": {
      "text/plain": [
       "(torch.Size([10000, 4, 2]), torch.Size([10000, 4, 2]))"
      ]
     },
     "execution_count": 39,
     "metadata": {},
     "output_type": "execute_result"
    }
   ],
   "source": [
    "# Import datasets\n",
    "\n",
    "sep_data = th.load('../datasets/sep_states.pt')\n",
    "\n",
    "ent_data = th.load('../datasets/ent_states.pt')\n",
    "\n",
    "sep_data_pair = th.stack((sep_data.real, sep_data.imag), dim=-1)\n",
    "ent_data_pair = th.stack((ent_data.real, ent_data.imag), dim=-1)\n",
    "\n",
    "sep_data_pair.shape, ent_data_pair.shape"
   ]
  },
  {
   "cell_type": "code",
   "execution_count": 40,
   "metadata": {},
   "outputs": [
    {
     "data": {
      "text/plain": [
       "(torch.Size([7000, 4, 2]),\n",
       " torch.Size([3000, 4, 2]),\n",
       " torch.Size([7000, 4, 2]),\n",
       " torch.Size([3000, 4, 2]))"
      ]
     },
     "execution_count": 40,
     "metadata": {},
     "output_type": "execute_result"
    }
   ],
   "source": [
    "# Split the data into training and testing sets\n",
    "\n",
    "sep_train, sep_test = train_test_split(sep_data_pair, test_size=0.3)\n",
    "ent_train, ent_test = train_test_split(ent_data_pair, test_size=0.3)\n",
    "\n",
    "sep_train.shape, sep_test.shape, ent_train.shape, ent_test.shape"
   ]
  },
  {
   "cell_type": "code",
   "execution_count": 41,
   "metadata": {},
   "outputs": [],
   "source": [
    "BATCH_SIZE = 64\n",
    "ent_train_loader = DataLoader(ent_train, batch_size=BATCH_SIZE, shuffle=True)\n",
    "ent_test_loader = DataLoader(ent_test, batch_size=BATCH_SIZE, shuffle=True)\n",
    "sep_train_loader = DataLoader(sep_train, batch_size=BATCH_SIZE, shuffle=True)\n",
    "sep_test_loader = DataLoader(sep_test, batch_size=BATCH_SIZE, shuffle=True)"
   ]
  },
  {
   "cell_type": "code",
   "execution_count": 42,
   "metadata": {},
   "outputs": [],
   "source": [
    "## Import train and test dataset, scale them and convert them to data loaders\n",
    "\n",
    "from torchvision import datasets, transforms\n",
    "\n",
    "BATCH_SIZE = 64\n",
    "\n",
    "\n",
    "MNIST_dataset = datasets.MNIST(\n",
    "    root=\"./data\",\n",
    "    train=True,\n",
    "    transform= transforms.Compose([\n",
    "        transforms.ToTensor(),\n",
    "        transforms.Normalize(0, 1)]),\n",
    "    download=True\n",
    ")\n"
   ]
  },
  {
   "cell_type": "code",
   "execution_count": 43,
   "metadata": {},
   "outputs": [],
   "source": [
    "data, labels = MNIST_dataset.data, MNIST_dataset.targets\n",
    "\n",
    "mask = labels == 6\n",
    "\n",
    "MNIST_6 = data[mask].float()"
   ]
  },
  {
   "cell_type": "code",
   "execution_count": 44,
   "metadata": {},
   "outputs": [],
   "source": [
    "train_loader = DataLoader(dataset = MNIST_6,\n",
    "                          batch_size = BATCH_SIZE,\n",
    "                          shuffle = True)"
   ]
  },
  {
   "cell_type": "code",
   "execution_count": 45,
   "metadata": {},
   "outputs": [
    {
     "data": {
      "image/png": "[encoded data removed]",
      "text/plain": [
       "<Figure size 2500x400 with 20 Axes>"
      ]
     },
     "metadata": {},
     "output_type": "display_data"
    }
   ],
   "source": [
    "images = next(iter(train_loader)).numpy()\n",
    "\n",
    "fig = plt.figure(figsize=(25, 4))\n",
    "\n",
    "for idx in np.arange(20):\n",
    "    ax = fig.add_subplot(2, int(20/2), idx+1, xticks=[], yticks=[])\n",
    "    ax.imshow(np.squeeze(images[idx]), cmap='gray')\n",
    "    # print out the correct label for each image\n",
    "    # .item() gets the value contained in a Tensor"
   ]
  },
  {
   "cell_type": "code",
   "execution_count": 46,
   "metadata": {},
   "outputs": [],
   "source": [
    "# Define the loss function\n",
    "\n",
    "def custom_loss(x, x_hat, mean, logvar):\n",
    "    reproduction_loss = nn.functional.binary_cross_entropy(x_hat, x, reduction='sum')\n",
    "    KLD = -0.5 * th.sum(1 + logvar - mean * mean - logvar.exp())\n",
    "    \n",
    "    return reproduction_loss + KLD"
   ]
  },
  {
   "cell_type": "code",
   "execution_count": 47,
   "metadata": {},
   "outputs": [],
   "source": [
    "class VAE_fc(nn.Module):\n",
    "    def __init__(self, input_size, hidden_size):\n",
    "        super(VAE_fc, self).__init__()\n",
    "        self.fc1 = nn.Linear(input_size, hidden_size[0])\n",
    "        self.fc2 = nn.Linear(hidden_size[0], hidden_size[1])\n",
    "        \n",
    "        self.leaky_relu = nn.LeakyReLU(0.2)\n",
    "        \n",
    "        self.fc3 = nn.Linear(hidden_size[1], hidden_size[0])\n",
    "        self.fc4 = nn.Linear(hidden_size[0], input_size)\n",
    "    \n",
    "    def encode(self, x):\n",
    "        \n",
    "        # print(\"flatten\", x.shape)\n",
    "        x = self.fc1(x)\n",
    "        x = self.leaky_relu(x)\n",
    "        # print(\"fc1\", x.shape)\n",
    "        \n",
    "        x = self.fc2(x)\n",
    "        x = self.leaky_relu(x)\n",
    "        # print(\"fc2\", x.shape)\n",
    "        return x\n",
    "    \n",
    "    def decode(self, x):\n",
    "        x = self.fc3(x)\n",
    "        x = self.leaky_relu(x)\n",
    "        \n",
    "        x = self.fc4(x)\n",
    "        x = self.leaky_relu(x)\n",
    "        return nn.Sigmoid()(x)\n",
    "    \n",
    "    def forward(self, x):\n",
    "        # print(\"input\", x.shape)\n",
    "        x = x.flatten(start_dim=1)\n",
    "        # print(\"flatten\", x.shape)\n",
    "        encoded = self.encode(x)\n",
    "        \n",
    "        decoded = self.decode(encoded)\n",
    "        return encoded, decoded"
   ]
  },
  {
   "cell_type": "code",
   "execution_count": 68,
   "metadata": {},
   "outputs": [],
   "source": [
    "def get_batch_accuracy(logit, target):\n",
    "    corrects = (th.max(logit, 1)[1].view(target.size()).data == target.data).sum()\n",
    "    accuracy = 100.0 * corrects / target.size(0)\n",
    "    return accuracy.item()\n",
    "\n",
    "\n",
    "def get_test_stats(model, criterion, test_loader, device):\n",
    "    test_acc, test_loss = 0.0, 0.0\n",
    "    for _, data in enumerate(test_loader):\n",
    "        data = data.to(device)\n",
    "        _, decoded = model(data)\n",
    "        test_loss += criterion(data, decoded).item()\n",
    "        test_acc += get_batch_accuracy(data, decoded)\n",
    "        return test_loss, test_acc\n",
    "\n",
    "def train_model(model, train_loader, epochs, optimizer, criterion, device):\n",
    "    _trained_model = model.to(device)\n",
    "    _trained_model.train()\n",
    "    _train_loss = []\n",
    "    for _ in range(epochs):\n",
    "        _total_loss = 0.0\n",
    "        for _, _data in enumerate(train_loader):\n",
    "            _data = _data.to(device)\n",
    "            _, _decoded = _trained_model(_data)\n",
    "            _loss = criterion(_data.flatten(start_dim=1), _decoded)\n",
    "            optimizer.zero_grad()\n",
    "            _loss.backward()\n",
    "            optimizer.step()\n",
    "            _total_loss += _loss.item() * data.size(0)\n",
    "            \n",
    "        _train_loss.append(_total_loss / len(train_loader.dataset))\n",
    "        \n",
    "        # print('Epoch: {}, Loss: {:.4f}'.format(epoch, epoch_loss))\n",
    "    return _train_loss, _trained_model"
   ]
  },
  {
   "cell_type": "code",
   "execution_count": 69,
   "metadata": {},
   "outputs": [],
   "source": [
    "model = VAE_fc(input_size=4 * 2, hidden_size=[32, 16])\n",
    "optimizer = th.optim.Adam(model.parameters(), lr=0.01)\n",
    "\n",
    "train_loss, model = train_model(model=model,\n",
    "                    train_loader=ent_train_loader,\n",
    "                    epochs=100,\n",
    "                    optimizer=optimizer,\n",
    "                    criterion=nn.MSELoss(),\n",
    "                    device='cpu')\n"
   ]
  },
  {
   "cell_type": "code",
   "execution_count": 73,
   "metadata": {},
   "outputs": [
    {
     "data": {
      "text/plain": [
       "Text(0, 0.5, 'Loss')"
      ]
     },
     "execution_count": 73,
     "metadata": {},
     "output_type": "execute_result"
    },
    {
     "data": {
      "image/png": "[encoded data removed]",
      "text/plain": [
       "<Figure size 640x480 with 1 Axes>"
      ]
     },
     "metadata": {},
     "output_type": "display_data"
    }
   ],
   "source": [
    "plt.plot(np.arange(len(train_loss)), train_loss)\n",
    "plt.xlabel('Epochs')\n",
    "plt.ylabel('Loss')"
   ]
  },
  {
   "cell_type": "code",
   "execution_count": 60,
   "metadata": {},
   "outputs": [
    {
     "data": {
      "text/plain": [
       "tensor([[[0.1879, 0.0036],\n",
       "         [0.1625, 0.0050],\n",
       "         [0.1828, 0.0020],\n",
       "         [0.1570, 0.0022]],\n",
       "\n",
       "        [[0.2033, 0.0051],\n",
       "         [0.1619, 0.0068],\n",
       "         [0.1834, 0.0032],\n",
       "         [0.1426, 0.0032]],\n",
       "\n",
       "        [[0.0754, 0.0009],\n",
       "         [0.0770, 0.0015],\n",
       "         [0.0844, 0.0006],\n",
       "         [0.0908, 0.0005]],\n",
       "\n",
       "        ...,\n",
       "\n",
       "        [[0.0811, 0.0008],\n",
       "         [0.0784, 0.0012],\n",
       "         [0.0873, 0.0005],\n",
       "         [0.0884, 0.0004]],\n",
       "\n",
       "        [[0.2235, 0.0071],\n",
       "         [0.3113, 0.0099],\n",
       "         [0.3183, 0.0031],\n",
       "         [0.4292, 0.0048]],\n",
       "\n",
       "        [[0.1712, 0.0035],\n",
       "         [0.1456, 0.0049],\n",
       "         [0.1633, 0.0021],\n",
       "         [0.1388, 0.0022]]], grad_fn=<ViewBackward0>)"
      ]
     },
     "execution_count": 60,
     "metadata": {},
     "output_type": "execute_result"
    }
   ],
   "source": [
    "_, result = model(ent_train)\n",
    "\n",
    "ent_data_reconsructed = result.view(-1, 4, 2)\n",
    "\n",
    "ent_data_reconsructed"
   ]
  },
  {
   "cell_type": "code",
   "execution_count": 51,
   "metadata": {},
   "outputs": [
    {
     "name": "stdout",
     "output_type": "stream",
     "text": [
      "Epoch: 0, Loss: 7631.4725\n",
      "Epoch: 1, Loss: 7631.4725\n",
      "Epoch: 2, Loss: 7631.4725\n",
      "Epoch: 3, Loss: 7631.4725\n",
      "Epoch: 4, Loss: 7631.4725\n"
     ]
    }
   ],
   "source": [
    "model = VAE_fc(input_size=28 * 28, hidden_size=[14 * 28, 14 * 14])\n",
    "\n",
    "\n",
    "model = train_model(model=model,\n",
    "                    train_loader=train_loader,\n",
    "                    epochs=5,\n",
    "                    optimizer=optimizer,\n",
    "                    criterion=nn.MSELoss(),\n",
    "                    device='cpu')"
   ]
  },
  {
   "cell_type": "code",
   "execution_count": 52,
   "metadata": {},
   "outputs": [
    {
     "data": {
      "text/plain": [
       "(5918, 28, 28)"
      ]
     },
     "execution_count": 52,
     "metadata": {},
     "output_type": "execute_result"
    }
   ],
   "source": [
    "_, reconstructed_data = model(MNIST_6)\n",
    "\n",
    "reconstructed_data = reconstructed_data.view(-1, 28, 28).detach().numpy()\n",
    "reconstructed_data.shape"
   ]
  },
  {
   "cell_type": "code",
   "execution_count": 53,
   "metadata": {},
   "outputs": [
    {
     "data": {
      "text/plain": [
       "array([0.4125404 , 0.6281703 , 0.6638701 , 0.8958901 , 0.99797577,\n",
       "       0.432627  , 0.4466593 , 0.4280942 , 0.42627883, 0.44609702,\n",
       "       0.40483668, 0.98523456, 0.9968346 , 0.4753373 , 0.97488064,\n",
       "       0.43245634, 0.5893256 , 0.96820974, 0.9987276 , 0.9218101 ,\n",
       "       0.884059  , 0.38386956, 0.41969696, 0.28535873, 0.3359653 ,\n",
       "       0.98916936, 0.8774677 , 0.46693674], dtype=float32)"
      ]
     },
     "execution_count": 53,
     "metadata": {},
     "output_type": "execute_result"
    }
   ],
   "source": [
    "next(iter(reconstructed_data))[0]"
   ]
  },
  {
   "cell_type": "code",
   "execution_count": 54,
   "metadata": {},
   "outputs": [
    {
     "data": {
      "image/png": "[encoded data removed]",
      "text/plain": [
       "<Figure size 2500x400 with 20 Axes>"
      ]
     },
     "metadata": {},
     "output_type": "display_data"
    }
   ],
   "source": [
    "images = next(iter(reconstructed_data))\n",
    "\n",
    "fig = plt.figure(figsize=(25, 4))\n",
    "\n",
    "for idx in np.arange(20):\n",
    "    ax = fig.add_subplot(2, int(20/2), idx+1, xticks=[], yticks=[])\n",
    "    ax.imshow(np.squeeze(images), cmap='gray')\n",
    "    # print out the correct label for each image\n",
    "    # .item() gets the value contained in a Tensor"
   ]
  }
 ],
 "metadata": {
  "kernelspec": {
   "display_name": "Python 3",
   "language": "python",
   "name": "python3"
  },
  "language_info": {
   "codemirror_mode": {
    "name": "ipython",
    "version": 3
   },
   "file_extension": ".py",
   "mimetype": "text/x-python",
   "name": "python",
   "nbconvert_exporter": "python",
   "pygments_lexer": "ipython3",
   "version": "3.11.0"
  }
 },
 "nbformat": 4,
 "nbformat_minor": 2
}
