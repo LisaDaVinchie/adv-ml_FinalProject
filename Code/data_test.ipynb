{
 "cells": [
  {
   "cell_type": "code",
   "execution_count": 47,
   "metadata": {},
   "outputs": [],
   "source": [
    "import torch as th\n",
    "import numpy as np\n",
    "import matplotlib.pyplot as plt\n",
    "import qutip as q"
   ]
  },
  {
   "cell_type": "code",
   "execution_count": 48,
   "metadata": {},
   "outputs": [
    {
     "data": {
      "text/plain": [
       "torch.Size([30000, 81])"
      ]
     },
     "execution_count": 48,
     "metadata": {},
     "output_type": "execute_result"
    }
   ],
   "source": [
    "sep_data = th.load('../datasets/sep_states1.pt')\n",
    "\n",
    "ent_data = th.load('../datasets/ent_states1.pt')\n",
    "\n",
    "sep_data.shape"
   ]
  },
  {
   "cell_type": "code",
   "execution_count": 49,
   "metadata": {},
   "outputs": [
    {
     "data": {
      "text/plain": [
       "array([0.00030372, 0.00044198, 0.00079099, ..., 0.00451057, 0.00635544,\n",
       "       0.00395287], dtype=float32)"
      ]
     },
     "execution_count": 49,
     "metadata": {},
     "output_type": "execute_result"
    }
   ],
   "source": [
    "data = sep_data.real.detach().numpy()[0:1000].flatten()\n",
    "data"
   ]
  },
  {
   "cell_type": "code",
   "execution_count": 50,
   "metadata": {},
   "outputs": [
    {
     "data": {
      "text/plain": [
       "(array([3.0000e+00, 2.0000e+01, 1.6810e+03, 1.6535e+04, 2.5270e+04,\n",
       "        1.9117e+04, 1.0080e+04, 4.7880e+03, 2.0450e+03, 7.8800e+02,\n",
       "        3.5300e+02, 1.5100e+02, 8.5000e+01, 3.6000e+01, 2.5000e+01,\n",
       "        9.0000e+00, 7.0000e+00, 3.0000e+00, 1.0000e+00, 3.0000e+00]),\n",
       " array([-0.00375909, -0.00217731, -0.00059554,  0.00098623,  0.00256801,\n",
       "         0.00414978,  0.00573155,  0.00731333,  0.0088951 ,  0.01047688,\n",
       "         0.01205865,  0.01364042,  0.0152222 ,  0.01680397,  0.01838575,\n",
       "         0.01996752,  0.02154929,  0.02313107,  0.02471284,  0.02629462,\n",
       "         0.02787639]),\n",
       " <BarContainer object of 20 artists>)"
      ]
     },
     "execution_count": 50,
     "metadata": {},
     "output_type": "execute_result"
    },
    {
     "data": {
      "image/png": "[encoded data removed]",
      "text/plain": [
       "<Figure size 640x480 with 1 Axes>"
      ]
     },
     "metadata": {},
     "output_type": "display_data"
    }
   ],
   "source": [
    "plt.hist(data, bins=20, label='sep')"
   ]
  },
  {
   "cell_type": "code",
   "execution_count": 51,
   "metadata": {},
   "outputs": [],
   "source": [
    "# Test separability\n",
    "\n",
    "def peres_horodecki_bipartite(rho, mask=[0,1]):\n",
    "    \"\"\" Tests the given bipartite state for Peres-Horodecki criterion\n",
    "    \n",
    "    Parameters\n",
    "    ----------\n",
    "    rho: qobj/array-like\n",
    "        Density operator for the state\n",
    "    mask: list of int, length 2\n",
    "        mask used for partial transpose\n",
    "    \n",
    "    Returns\n",
    "    -------\n",
    "    isentangled: bool\n",
    "        True for entangled, False for disentangled\n",
    "    \n",
    "    \"\"\"\n",
    "    if rho.type != 'oper':\n",
    "        raise TypeError(\"Input must be a density matrix\")\n",
    "    rhopt = q.partial_transpose(rho,mask)\n",
    "    rhopt_eigs = rhopt.eigenenergies()\n",
    "    if min(rhopt_eigs) < 0:\n",
    "        isentangled = True\n",
    "    else:\n",
    "        isentangled = False\n",
    "    return isentangled"
   ]
  },
  {
   "cell_type": "code",
   "execution_count": 52,
   "metadata": {},
   "outputs": [
    {
     "data": {
      "text/plain": [
       "torch.Size([81])"
      ]
     },
     "execution_count": 52,
     "metadata": {},
     "output_type": "execute_result"
    }
   ],
   "source": [
    "sep_data[0].shape"
   ]
  },
  {
   "cell_type": "code",
   "execution_count": 53,
   "metadata": {},
   "outputs": [
    {
     "data": {
      "text/plain": [
       "'ket'"
      ]
     },
     "execution_count": 53,
     "metadata": {},
     "output_type": "execute_result"
    }
   ],
   "source": [
    "operator = q.Qobj(sep_data[0].detach().numpy(), type = \"oper\")\n",
    "\n",
    "# density_matrix = q.Qobj(q.ket2dm(operator))\n",
    "\n",
    "# density_matrix\n",
    "\n",
    "operator.type"
   ]
  },
  {
   "cell_type": "code",
   "execution_count": 55,
   "metadata": {},
   "outputs": [
    {
     "data": {
      "text/latex": [
       "Quantum object: dims = [[2, 2], [1, 1]], shape = (4, 1), type = ket $ \\\\ \\left(\\begin{matrix}0.0\\\\1.0\\\\0.0\\\\0.0\\\\\\end{matrix}\\right)$"
      ],
      "text/plain": [
       "Quantum object: dims = [[2, 2], [1, 1]], shape = (4, 1), type = ket\n",
       "Qobj data =\n",
       "[[0.]\n",
       " [1.]\n",
       " [0.]\n",
       " [0.]]"
      ]
     },
     "execution_count": 55,
     "metadata": {},
     "output_type": "execute_result"
    }
   ],
   "source": [
    "subs1 = q.basis(2,0)\n",
    "subs2 = q.basis(2,1)\n",
    "\n",
    "sep_state = q.tensor(subs1, subs2)\n",
    "\n",
    "sep_state"
   ]
  },
  {
   "cell_type": "code",
   "execution_count": 84,
   "metadata": {},
   "outputs": [
    {
     "name": "stdout",
     "output_type": "stream",
     "text": [
      "Quantum object: dims = [[2], [1]], shape = (2, 1), type = ket\n",
      "Qobj data =\n",
      "[[1.]\n",
      " [0.]]\n"
     ]
    }
   ],
   "source": [
    "num_qubits = 2\n",
    "\n",
    "# Generate random coefficients for the convex combination\n",
    "coefficients = np.random.rand(2**num_qubits)\n",
    "\n",
    "# Normalize the coefficients to ensure they sum to 1\n",
    "coefficients /= np.sum(coefficients)\n",
    "\n",
    "# Create a list to store the product states\n",
    "product_states = []\n",
    "\n",
    "# Generate product states for each subsystem\n",
    "for i in range(num_qubits):\n",
    "    product_states.append(q.basis(2, 0))  # Example: qubit state |0⟩ for each subsystem\n",
    "    # print(product_states[i].type)\n",
    "\n",
    "# Convert coefficients to QuTiP quantum objects\n",
    "coeff_objects = [q.Qobj(np.sqrt(coeff)) for coeff in coefficients]\n",
    "\n",
    "convex_combination_state = q.Qobj(np.zeros((2**num_qubits, 1)))\n",
    "\n",
    "q.tensor(product_states[0], product_states[1])\n",
    "\n",
    "\n",
    "# convex_combination_state = sum(coeff * q.tensor(product_states[i] for i in range(num_qubits)) for coeff in coeff_objects)"
   ]
  },
  {
   "cell_type": "code",
   "execution_count": null,
   "metadata": {},
   "outputs": [],
   "source": [
    "# Create the convex combination of product states\n",
    "convex_combination_state = sum(coeff * q.tensor(product_states[i] for i in range(num_qubits)) for coeff in coeff_objects)\n",
    "\n",
    "# Print the convex combination state\n",
    "print(\"Convex Combination State:\")\n",
    "print(convex_combination_state)"
   ]
  }
 ],
 "metadata": {
  "kernelspec": {
   "display_name": "Python 3",
   "language": "python",
   "name": "python3"
  },
  "language_info": {
   "codemirror_mode": {
    "name": "ipython",
    "version": 3
   },
   "file_extension": ".py",
   "mimetype": "text/x-python",
   "name": "python",
   "nbconvert_exporter": "python",
   "pygments_lexer": "ipython3",
   "version": "3.11.0"
  }
 },
 "nbformat": 4,
 "nbformat_minor": 2
}
