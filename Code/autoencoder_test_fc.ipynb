{
 "cells": [
  {
   "cell_type": "code",
   "execution_count": 23,
   "metadata": {},
   "outputs": [],
   "source": [
    "# Import libraries\n",
    "import torch as th\n",
    "import torch.nn as nn\n",
    "import torch.nn.functional as F\n",
    "from torch.utils.data import DataLoader, TensorDataset\n",
    "import torch.optim as optim\n",
    "from tqdm.auto import trange\n",
    "from sklearn.model_selection import train_test_split\n",
    "import numpy as np\n",
    "import matplotlib.pyplot as plt"
   ]
  },
  {
   "cell_type": "code",
   "execution_count": 7,
   "metadata": {},
   "outputs": [
    {
     "data": {
      "text/plain": [
       "(torch.Size([30000, 2, 81]), torch.Size([30000, 2, 81]))"
      ]
     },
     "execution_count": 7,
     "metadata": {},
     "output_type": "execute_result"
    }
   ],
   "source": [
    "# Import datasets\n",
    "\n",
    "sep_data = th.load('../datasets/sep_states1.pt')\n",
    "\n",
    "ent_data = th.load('../datasets/ent_states1.pt')\n",
    "\n",
    "sep_data_pair = th.stack((sep_data.real, sep_data.imag), dim=1)\n",
    "ent_data_pair = th.stack((ent_data.real, ent_data.imag), dim=1)\n",
    "\n",
    "sep_data_pair.shape, ent_data_pair.shape"
   ]
  },
  {
   "cell_type": "code",
   "execution_count": 8,
   "metadata": {},
   "outputs": [
    {
     "data": {
      "text/plain": [
       "(torch.Size([21000, 2, 81]),\n",
       " torch.Size([9000, 2, 81]),\n",
       " torch.Size([21000, 2, 81]),\n",
       " torch.Size([9000, 2, 81]))"
      ]
     },
     "execution_count": 8,
     "metadata": {},
     "output_type": "execute_result"
    }
   ],
   "source": [
    "# Split the data into training and testing sets\n",
    "\n",
    "sep_train, sep_test = train_test_split(sep_data_pair, test_size=0.3)\n",
    "ent_train, ent_test = train_test_split(ent_data_pair, test_size=0.3)\n",
    "\n",
    "sep_train.shape, sep_test.shape, ent_train.shape, ent_test.shape"
   ]
  },
  {
   "cell_type": "code",
   "execution_count": 9,
   "metadata": {},
   "outputs": [],
   "source": [
    "BATCH_SIZE = 64\n",
    "ent_train_loader = DataLoader(ent_train, batch_size=BATCH_SIZE, shuffle=True)\n",
    "ent_test_loader = DataLoader(ent_test, batch_size=BATCH_SIZE, shuffle=True)\n",
    "sep_train_loader = DataLoader(sep_train, batch_size=BATCH_SIZE, shuffle=True)\n",
    "sep_test_loader = DataLoader(sep_test, batch_size=BATCH_SIZE, shuffle=True)"
   ]
  },
  {
   "cell_type": "code",
   "execution_count": 13,
   "metadata": {},
   "outputs": [
    {
     "name": "stdout",
     "output_type": "stream",
     "text": [
      "Downloading http://yann.lecun.com/exdb/mnist/train-images-idx3-ubyte.gz\n",
      "Downloading http://yann.lecun.com/exdb/mnist/train-images-idx3-ubyte.gz to ../datasets/MNIST/raw/train-images-idx3-ubyte.gz\n"
     ]
    },
    {
     "name": "stderr",
     "output_type": "stream",
     "text": [
      "100%|██████████| 9912422/9912422 [00:11<00:00, 828890.47it/s] \n"
     ]
    },
    {
     "name": "stdout",
     "output_type": "stream",
     "text": [
      "Extracting ../datasets/MNIST/raw/train-images-idx3-ubyte.gz to ../datasets/MNIST/raw\n",
      "\n",
      "Downloading http://yann.lecun.com/exdb/mnist/train-labels-idx1-ubyte.gz\n",
      "Downloading http://yann.lecun.com/exdb/mnist/train-labels-idx1-ubyte.gz to ../datasets/MNIST/raw/train-labels-idx1-ubyte.gz\n"
     ]
    },
    {
     "name": "stderr",
     "output_type": "stream",
     "text": [
      "100%|██████████| 28881/28881 [00:00<00:00, 939735.72it/s]\n"
     ]
    },
    {
     "name": "stdout",
     "output_type": "stream",
     "text": [
      "Extracting ../datasets/MNIST/raw/train-labels-idx1-ubyte.gz to ../datasets/MNIST/raw\n",
      "\n",
      "Downloading http://yann.lecun.com/exdb/mnist/t10k-images-idx3-ubyte.gz\n",
      "Downloading http://yann.lecun.com/exdb/mnist/t10k-images-idx3-ubyte.gz to ../datasets/MNIST/raw/t10k-images-idx3-ubyte.gz\n"
     ]
    },
    {
     "name": "stderr",
     "output_type": "stream",
     "text": [
      "100%|██████████| 1648877/1648877 [00:02<00:00, 667266.28it/s] \n"
     ]
    },
    {
     "name": "stdout",
     "output_type": "stream",
     "text": [
      "Extracting ../datasets/MNIST/raw/t10k-images-idx3-ubyte.gz to ../datasets/MNIST/raw\n",
      "\n",
      "Downloading http://yann.lecun.com/exdb/mnist/t10k-labels-idx1-ubyte.gz\n",
      "Downloading http://yann.lecun.com/exdb/mnist/t10k-labels-idx1-ubyte.gz to ../datasets/MNIST/raw/t10k-labels-idx1-ubyte.gz\n"
     ]
    },
    {
     "name": "stderr",
     "output_type": "stream",
     "text": [
      "100%|██████████| 4542/4542 [00:00<00:00, 1117791.98it/s]"
     ]
    },
    {
     "name": "stdout",
     "output_type": "stream",
     "text": [
      "Extracting ../datasets/MNIST/raw/t10k-labels-idx1-ubyte.gz to ../datasets/MNIST/raw\n",
      "\n"
     ]
    },
    {
     "name": "stderr",
     "output_type": "stream",
     "text": [
      "\n"
     ]
    }
   ],
   "source": [
    "## Import train and test dataset, scale them and convert them to data loaders\n",
    "\n",
    "from torchvision import datasets, transforms\n",
    "\n",
    "BATCH_SIZE = 64\n",
    "\n",
    "\n",
    "MNIST_dataset = datasets.MNIST(\n",
    "    root=\"../datasets/\",\n",
    "    train=True,\n",
    "    transform= transforms.Compose([\n",
    "        transforms.ToTensor(),\n",
    "        transforms.Normalize(0, 1)]),\n",
    "    download=True\n",
    ")\n"
   ]
  },
  {
   "cell_type": "code",
   "execution_count": 14,
   "metadata": {},
   "outputs": [],
   "source": [
    "data, labels = MNIST_dataset.data, MNIST_dataset.targets\n",
    "\n",
    "mask = labels == 6\n",
    "\n",
    "MNIST_6 = data[mask].float()"
   ]
  },
  {
   "cell_type": "code",
   "execution_count": 15,
   "metadata": {},
   "outputs": [],
   "source": [
    "train_loader = DataLoader(dataset = MNIST_6,\n",
    "                          batch_size = BATCH_SIZE,\n",
    "                          shuffle = True)"
   ]
  },
  {
   "cell_type": "code",
   "execution_count": 8,
   "metadata": {},
   "outputs": [
    {
     "data": {
      "image/png": "[encoded data removed]",
      "text/plain": [
       "<Figure size 2500x400 with 20 Axes>"
      ]
     },
     "metadata": {},
     "output_type": "display_data"
    }
   ],
   "source": [
    "images = next(iter(train_loader)).numpy()\n",
    "\n",
    "fig = plt.figure(figsize=(25, 4))\n",
    "\n",
    "for idx in np.arange(20):\n",
    "    ax = fig.add_subplot(2, int(20/2), idx+1, xticks=[], yticks=[])\n",
    "    ax.imshow(np.squeeze(images[idx]), cmap='gray')\n",
    "    # print out the correct label for each image\n",
    "    # .item() gets the value contained in a Tensor"
   ]
  },
  {
   "cell_type": "code",
   "execution_count": 16,
   "metadata": {},
   "outputs": [],
   "source": [
    "# Define the loss function\n",
    "\n",
    "def custom_loss(x, x_hat, mean, logvar):\n",
    "    reproduction_loss = nn.functional.binary_cross_entropy(x_hat, x, reduction='sum')\n",
    "    KLD = -0.5 * th.sum(1 + logvar - mean * mean - logvar.exp())\n",
    "    \n",
    "    return reproduction_loss + KLD"
   ]
  },
  {
   "cell_type": "code",
   "execution_count": 59,
   "metadata": {},
   "outputs": [],
   "source": [
    "class VAE_fc(nn.Module):\n",
    "    def __init__(self, input_size, hidden_size):\n",
    "        super(VAE_fc, self).__init__()\n",
    "        self.enc1 = nn.Linear(input_size, hidden_size[0])\n",
    "        self.enc2 = nn.Linear(hidden_size[0], hidden_size[1])\n",
    "        self.enc_mu = nn.Linear(hidden_size[1], hidden_size[2])\n",
    "        self.enc_logvar = nn.Linear(hidden_size[1], hidden_size[2])\n",
    "        \n",
    "        self.dec1 = nn.Linear(hidden_size[2], hidden_size[1])\n",
    "        self.dec2 = nn.Linear(hidden_size[1], hidden_size[0])\n",
    "        self.dec3 = nn.Linear(hidden_size[0], input_size)\n",
    "    \n",
    "    def encoder(self, x):\n",
    "        \n",
    "        # print(\"flatten\", x.shape)\n",
    "        x = F.relu(self.enc1(x))\n",
    "        x = F.relu(self.enc2(x))\n",
    "        \n",
    "        mu = F.relu(self.enc_mu(x))\n",
    "        logvar = F.relu(self.enc_logvar(x))\n",
    "        \n",
    "        return mu, logvar\n",
    "    \n",
    "    def reparametrize(self, mu, logvar):\n",
    "        std = th.exp(0.5 * logvar)\n",
    "        eps = th.randn_like(std)\n",
    "        return mu + eps * std \n",
    "        \n",
    "    \n",
    "    def decoder(self, z):\n",
    "        z = F.relu(self.dec1(z))\n",
    "        z = F.relu(self.dec2(z))\n",
    "        z = th.sigmoid(self.dec3(z))\n",
    "        return z\n",
    "    \n",
    "    \n",
    "    def forward(self, x):\n",
    "        # print(\"input\", x.shape)\n",
    "        x = x.flatten(start_dim=1)\n",
    "        # print(\"flatten\", x.shape)\n",
    "        mu, logvar = self.encoder(x)\n",
    "        z = self.reparametrize(mu, logvar)\n",
    "        decoded = self.decoder(z)\n",
    "        return decoded, z, mu, logvar\n",
    "    \n",
    "# model = VAE_fc(input_size=81 * 2, hidden_size=[81, 40])\n",
    "\n",
    "# for _, data in enumerate(ent_train_loader):\n",
    "#     print(model(data))\n",
    "#     break"
   ]
  },
  {
   "cell_type": "code",
   "execution_count": 89,
   "metadata": {},
   "outputs": [],
   "source": [
    "# Define the training function\n",
    "def train_model(model, train_loader, epochs, optimizer, criterion, device):\n",
    "    trained_model = model.to(device)\n",
    "    trained_model.train()\n",
    "    train_loss = []\n",
    "    for epoch in range(epochs):\n",
    "        batch_loss = 0.0\n",
    "        for data in train_loader:\n",
    "            optimizer.zero_grad()\n",
    "            decoded, z, mu, logvar = trained_model(data)\n",
    "            loss = criterion(data.flatten(start_dim=1), decoded, mu, logvar)\n",
    "            loss.backward()\n",
    "            optimizer.step()\n",
    "            batch_loss += loss.item()\n",
    "        train_loss.append(batch_loss)\n",
    "        \n",
    "        print(f'Epoch: {epoch + 1}, Loss: {batch_loss:.4f}')\n",
    "    return trained_model, np.array(train_loss)\n",
    "\n",
    "def get_test_loss(trained_model, test_loader, criterion):\n",
    "    trained_model.eval()\n",
    "    decoded_data = []\n",
    "    test_loss = 0.0\n",
    "    for _, data in enumerate(test_loader):\n",
    "        decoded, z, mu, logvar = trained_model(data.flatten(start_dim=1))\n",
    "        decoded_data.append(decoded.detach().numpy())\n",
    "        test_loss += criterion(data.flatten(start_dim=1), decoded, mu, logvar).item()\n",
    "    return test_loss, np.array(decoded_data)"
   ]
  },
  {
   "cell_type": "code",
   "execution_count": 61,
   "metadata": {},
   "outputs": [],
   "source": [
    "def VAE_loss(input, output, mu, logvar):\n",
    "    reconstruction_loss = F.mse_loss(output, input, reduction='sum')\n",
    "    KL_loss = -0.5 * th.sum(1 + logvar - mu.pow(2) - logvar.exp())\n",
    "    return reconstruction_loss + 0.5 * KL_loss"
   ]
  },
  {
   "cell_type": "code",
   "execution_count": 82,
   "metadata": {},
   "outputs": [
    {
     "name": "stdout",
     "output_type": "stream",
     "text": [
      "Epoch: 1, Loss: 67116.6707\n",
      "Epoch: 2, Loss: 163.7779\n",
      "Epoch: 3, Loss: 142.7865\n",
      "Epoch: 4, Loss: 134.3121\n",
      "Epoch: 5, Loss: 131.5442\n",
      "Epoch: 6, Loss: 127.9978\n",
      "Epoch: 7, Loss: 126.0550\n",
      "Epoch: 8, Loss: 124.9797\n",
      "Epoch: 9, Loss: 124.2636\n",
      "Epoch: 10, Loss: 121.5827\n"
     ]
    }
   ],
   "source": [
    "model = VAE_fc(input_size=81 * 2, hidden_size=[81, 40, 20])\n",
    "optimizer = th.optim.Adam(model.parameters(), lr=0.001)\n",
    "\n",
    "trained_model_ent, train_loss_ent = train_model(model, ent_train_loader, 10, optimizer, VAE_loss, 'cpu')"
   ]
  },
  {
   "cell_type": "code",
   "execution_count": 83,
   "metadata": {},
   "outputs": [
    {
     "name": "stdout",
     "output_type": "stream",
     "text": [
      "Epoch: 1, Loss: 68782.1323\n",
      "Epoch: 2, Loss: 154.5444\n",
      "Epoch: 3, Loss: 59.3687\n",
      "Epoch: 4, Loss: 47.1066\n",
      "Epoch: 5, Loss: 40.4807\n",
      "Epoch: 6, Loss: 38.3686\n",
      "Epoch: 7, Loss: 37.2783\n",
      "Epoch: 8, Loss: 35.9002\n",
      "Epoch: 9, Loss: 34.7022\n",
      "Epoch: 10, Loss: 34.3626\n"
     ]
    }
   ],
   "source": [
    "model = VAE_fc(input_size=81 * 2, hidden_size=[81, 40, 20])\n",
    "optimizer = th.optim.Adam(model.parameters(), lr=0.001)\n",
    "\n",
    "trained_model_sep, train_loss_sep = train_model(model, sep_train_loader, 10, optimizer, VAE_loss, 'cpu')"
   ]
  },
  {
   "cell_type": "code",
   "execution_count": 90,
   "metadata": {},
   "outputs": [
    {
     "name": "stderr",
     "output_type": "stream",
     "text": [
      "/var/folders/tg/s7bvn5_n5ngb3nrzxqsyqbyw0000gn/T/ipykernel_46266/4184396661.py:28: VisibleDeprecationWarning: Creating an ndarray from ragged nested sequences (which is a list-or-tuple of lists-or-tuples-or ndarrays with different lengths or shapes) is deprecated. If you meant to do this, you must specify 'dtype=object' when creating the ndarray.\n",
      "  return test_loss, np.array(decoded_data)\n"
     ]
    },
    {
     "data": {
      "text/plain": [
       "([51.66027361154556, 27.362407095730305],\n",
       " [67.31944313645363, 14.414465375244617])"
      ]
     },
     "execution_count": 90,
     "metadata": {},
     "output_type": "execute_result"
    }
   ],
   "source": [
    "test_loss_ent = []\n",
    "test_loss, decoded_ent = get_test_loss(trained_model_ent, ent_test_loader, VAE_loss)\n",
    "test_loss_ent.append(test_loss)\n",
    "test_loss, decoded_ent = get_test_loss(trained_model_ent, sep_test_loader, VAE_loss)\n",
    "test_loss_ent.append(test_loss)\n",
    "\n",
    "test_loss_sep = []\n",
    "test_loss, decoded_sep = get_test_loss(trained_model_sep, ent_test_loader, VAE_loss)\n",
    "test_loss_sep.append(test_loss)\n",
    "test_loss, decoded_sep = get_test_loss(trained_model_sep, sep_test_loader, VAE_loss)\n",
    "test_loss_sep.append(test_loss)\n",
    "\n",
    "test_loss_ent, test_loss_sep"
   ]
  },
  {
   "cell_type": "code",
   "execution_count": 85,
   "metadata": {},
   "outputs": [
    {
     "data": {
      "text/plain": [
       "<matplotlib.legend.Legend at 0x14dc79d50>"
      ]
     },
     "execution_count": 85,
     "metadata": {},
     "output_type": "execute_result"
    },
    {
     "data": {
      "image/png": "[encoded data removed]",
      "text/plain": [
       "<Figure size 640x480 with 1 Axes>"
      ]
     },
     "metadata": {},
     "output_type": "display_data"
    }
   ],
   "source": [
    "x_values = np.arange(1, len(train_loss_ent) + 1)\n",
    "plt.plot(x_values, train_loss_ent, label='Training Loss (Entangled)')\n",
    "plt.plot(x_values, train_loss_sep, label='Training Loss (Separable)')\n",
    "plt.xlabel('Epochs')\n",
    "plt.ylabel('Loss')\n",
    "plt.xticks(x_values)\n",
    "plt.legend()"
   ]
  }
 ],
 "metadata": {
  "kernelspec": {
   "display_name": "Python 3",
   "language": "python",
   "name": "python3"
  },
  "language_info": {
   "codemirror_mode": {
    "name": "ipython",
    "version": 3
   },
   "file_extension": ".py",
   "mimetype": "text/x-python",
   "name": "python",
   "nbconvert_exporter": "python",
   "pygments_lexer": "ipython3",
   "version": "3.11.0"
  }
 },
 "nbformat": 4,
 "nbformat_minor": 2
}
