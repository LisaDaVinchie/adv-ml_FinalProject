{
 "cells": [
  {
   "cell_type": "markdown",
   "metadata": {},
   "source": [
    "# Generation of a quantum dataset"
   ]
  },
  {
   "cell_type": "code",
   "execution_count": 8,
   "metadata": {},
   "outputs": [],
   "source": [
    "import numpy as np\n",
    "import torch as th\n",
    "import os"
   ]
  },
  {
   "cell_type": "code",
   "execution_count": 9,
   "metadata": {},
   "outputs": [],
   "source": [
    "def generate_hermitian_product_states(size, n_matrices):\n",
    "    \"\"\"Generates a list of random Hermitian product states of the given dimension\n",
    "    Product states are hermitian matrices with trace 1.\n",
    "    Input:\n",
    "        size: size of the matrices\n",
    "        n_matrices: number of matrices to generate\n",
    "    Output:\n",
    "        product_states: 3D numpy array of product states\n",
    "    \"\"\"\n",
    "\n",
    "    product_states = []\n",
    "    for _ in range(n_matrices):\n",
    "        real_part = np.random.rand(size, size)\n",
    "        imag_part = np.random.rand(size, size)\n",
    "        product_state = real_part + 1j * imag_part\n",
    "        product_state = np.matmul(product_state, product_state.conj().T)\n",
    "        product_state /= np.trace(product_state)\n",
    "        product_states.append(product_state)\n",
    "\n",
    "    return np.array(product_states)\n",
    "\n",
    "def generate_coefficients(n, entangled):\n",
    "    \"\"\"\n",
    "    Generates a list of n random coefficients that sum to 1\n",
    "    Input:\n",
    "        n: number of coefficients to generate\n",
    "    Output:\n",
    "        coefficients: numpy array of n coefficients\n",
    "    \"\"\"\n",
    "    rand_numbers = np.random.rand(n)\n",
    "    \n",
    "    if not entangled:\n",
    "        rand_numbers /= np.sum(rand_numbers)\n",
    "    \n",
    "    return rand_numbers\n",
    "\n",
    "def generate_states(dimensions, n_matrices, n_states, entangled):\n",
    "    \"\"\"Generates a list of random separable states of the given dimension\n",
    "    Input:\n",
    "        dimensions: size of the matrices\n",
    "        n_matrices: number of matrices used to generate the states\n",
    "        n_states: number of separable states to generate\n",
    "    Output:\n",
    "        separable_states: 3D numpy array of separable states, of size n_states x dimensions^n_matrices\n",
    "    \"\"\"\n",
    "    states = []\n",
    "    \n",
    "    for _ in range(n_states):\n",
    "        product_states = generate_hermitian_product_states(dimensions, n_matrices)\n",
    "\n",
    "        coeffs = generate_coefficients(n = n_matrices, entangled = entangled)\n",
    "\n",
    "        state = np.zeros(dimensions ** n_matrices, dtype=np.complex128)\n",
    "        \n",
    "        for j in range(dimensions):\n",
    "            result = product_states[0][:, j]\n",
    "\n",
    "            for i in range(1, n_matrices):\n",
    "                result = np.kron(result, product_states[i][:, j])\n",
    "            result *= coeffs[j]\n",
    "            \n",
    "            state += result\n",
    "            \n",
    "        states.append(state)\n",
    "    \n",
    "    return np.array(states)"
   ]
  },
  {
   "cell_type": "code",
   "execution_count": 20,
   "metadata": {},
   "outputs": [],
   "source": [
    "sep_states = th.tensor(generate_states(dimensions = 2, n_matrices = 2, n_states = 10000, entangled = False), dtype=th.complex64)\n",
    "ent_states = th.tensor(generate_states(dimensions = 2, n_matrices = 2, n_states = 10000, entangled = True), dtype=th.complex64)"
   ]
  },
  {
   "cell_type": "code",
   "execution_count": 21,
   "metadata": {},
   "outputs": [
    {
     "data": {
      "text/plain": [
       "(torch.complex64, torch.complex64)"
      ]
     },
     "execution_count": 21,
     "metadata": {},
     "output_type": "execute_result"
    }
   ],
   "source": [
    "sep_states.dtype, ent_states.dtype"
   ]
  },
  {
   "cell_type": "code",
   "execution_count": 22,
   "metadata": {},
   "outputs": [],
   "source": [
    "if not os.path.exists('../datasets'):\n",
    "    os.makedirs('../datasets')\n",
    "    \n",
    "th.save(sep_states, '../datasets/sep_states.pt')\n",
    "th.save(ent_states, '../datasets/ent_states.pt')"
   ]
  }
 ],
 "metadata": {
  "kernelspec": {
   "display_name": "Python 3",
   "language": "python",
   "name": "python3"
  },
  "language_info": {
   "codemirror_mode": {
    "name": "ipython",
    "version": 3
   },
   "file_extension": ".py",
   "mimetype": "text/x-python",
   "name": "python",
   "nbconvert_exporter": "python",
   "pygments_lexer": "ipython3",
   "version": "3.11.0"
  }
 },
 "nbformat": 4,
 "nbformat_minor": 2
}
